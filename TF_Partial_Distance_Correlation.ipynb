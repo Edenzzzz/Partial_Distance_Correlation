{
  "cells": [
    {
      "cell_type": "markdown",
      "id": "d66468d6",
      "metadata": {
        "id": "d66468d6"
      },
      "source": [
        "# Partial Distance Correlation using TensorFlow😺"
      ]
    },
    {
      "cell_type": "markdown",
      "id": "75788b94",
      "metadata": {
        "id": "75788b94"
      },
      "source": [
        "## Install required packages"
      ]
    },
    {
      "cell_type": "code",
      "execution_count": 1,
      "id": "469dd5e4",
      "metadata": {
        "scrolled": true,
        "colab": {
          "base_uri": "https://localhost:8080/"
        },
        "id": "469dd5e4",
        "outputId": "3fa4b2a6-a54c-409d-8367-ca7a7751aa31"
      },
      "outputs": [
        {
          "output_type": "stream",
          "name": "stdout",
          "text": [
            "Looking in indexes: https://pypi.org/simple, https://us-python.pkg.dev/colab-wheels/public/simple/\n",
            "Requirement already satisfied: albumentations in /usr/local/lib/python3.8/dist-packages (1.2.1)\n",
            "Requirement already satisfied: PyYAML in /usr/local/lib/python3.8/dist-packages (from albumentations) (6.0)\n",
            "Requirement already satisfied: scipy in /usr/local/lib/python3.8/dist-packages (from albumentations) (1.7.3)\n",
            "Requirement already satisfied: qudida>=0.0.4 in /usr/local/lib/python3.8/dist-packages (from albumentations) (0.0.4)\n",
            "Requirement already satisfied: numpy>=1.11.1 in /usr/local/lib/python3.8/dist-packages (from albumentations) (1.21.6)\n",
            "Requirement already satisfied: scikit-image>=0.16.1 in /usr/local/lib/python3.8/dist-packages (from albumentations) (0.18.3)\n",
            "Requirement already satisfied: opencv-python-headless>=4.1.1 in /usr/local/lib/python3.8/dist-packages (from albumentations) (4.6.0.66)\n",
            "Requirement already satisfied: scikit-learn>=0.19.1 in /usr/local/lib/python3.8/dist-packages (from qudida>=0.0.4->albumentations) (1.0.2)\n",
            "Requirement already satisfied: typing-extensions in /usr/local/lib/python3.8/dist-packages (from qudida>=0.0.4->albumentations) (4.1.1)\n",
            "Requirement already satisfied: networkx>=2.0 in /usr/local/lib/python3.8/dist-packages (from scikit-image>=0.16.1->albumentations) (2.6.3)\n",
            "Requirement already satisfied: pillow!=7.1.0,!=7.1.1,>=4.3.0 in /usr/local/lib/python3.8/dist-packages (from scikit-image>=0.16.1->albumentations) (7.1.2)\n",
            "Requirement already satisfied: tifffile>=2019.7.26 in /usr/local/lib/python3.8/dist-packages (from scikit-image>=0.16.1->albumentations) (2021.11.2)\n",
            "Requirement already satisfied: PyWavelets>=1.1.1 in /usr/local/lib/python3.8/dist-packages (from scikit-image>=0.16.1->albumentations) (1.3.0)\n",
            "Requirement already satisfied: matplotlib!=3.0.0,>=2.0.0 in /usr/local/lib/python3.8/dist-packages (from scikit-image>=0.16.1->albumentations) (3.2.2)\n",
            "Requirement already satisfied: imageio>=2.3.0 in /usr/local/lib/python3.8/dist-packages (from scikit-image>=0.16.1->albumentations) (2.9.0)\n",
            "Requirement already satisfied: pyparsing!=2.0.4,!=2.1.2,!=2.1.6,>=2.0.1 in /usr/local/lib/python3.8/dist-packages (from matplotlib!=3.0.0,>=2.0.0->scikit-image>=0.16.1->albumentations) (3.0.9)\n",
            "Requirement already satisfied: cycler>=0.10 in /usr/local/lib/python3.8/dist-packages (from matplotlib!=3.0.0,>=2.0.0->scikit-image>=0.16.1->albumentations) (0.11.0)\n",
            "Requirement already satisfied: kiwisolver>=1.0.1 in /usr/local/lib/python3.8/dist-packages (from matplotlib!=3.0.0,>=2.0.0->scikit-image>=0.16.1->albumentations) (1.4.4)\n",
            "Requirement already satisfied: python-dateutil>=2.1 in /usr/local/lib/python3.8/dist-packages (from matplotlib!=3.0.0,>=2.0.0->scikit-image>=0.16.1->albumentations) (2.8.2)\n",
            "Requirement already satisfied: six>=1.5 in /usr/local/lib/python3.8/dist-packages (from python-dateutil>=2.1->matplotlib!=3.0.0,>=2.0.0->scikit-image>=0.16.1->albumentations) (1.15.0)\n",
            "Requirement already satisfied: joblib>=0.11 in /usr/local/lib/python3.8/dist-packages (from scikit-learn>=0.19.1->qudida>=0.0.4->albumentations) (1.2.0)\n",
            "Requirement already satisfied: threadpoolctl>=2.0.0 in /usr/local/lib/python3.8/dist-packages (from scikit-learn>=0.19.1->qudida>=0.0.4->albumentations) (3.1.0)\n",
            "Looking in indexes: https://pypi.org/simple, https://us-python.pkg.dev/colab-wheels/public/simple/\n",
            "Collecting transformers\n",
            "  Downloading transformers-4.25.1-py3-none-any.whl (5.8 MB)\n",
            "\u001b[K     |████████████████████████████████| 5.8 MB 4.3 MB/s \n",
            "\u001b[?25hRequirement already satisfied: numpy>=1.17 in /usr/local/lib/python3.8/dist-packages (from transformers) (1.21.6)\n",
            "Collecting huggingface-hub<1.0,>=0.10.0\n",
            "  Downloading huggingface_hub-0.11.1-py3-none-any.whl (182 kB)\n",
            "\u001b[K     |████████████████████████████████| 182 kB 59.3 MB/s \n",
            "\u001b[?25hRequirement already satisfied: pyyaml>=5.1 in /usr/local/lib/python3.8/dist-packages (from transformers) (6.0)\n",
            "Collecting tokenizers!=0.11.3,<0.14,>=0.11.1\n",
            "  Downloading tokenizers-0.13.2-cp38-cp38-manylinux_2_17_x86_64.manylinux2014_x86_64.whl (7.6 MB)\n",
            "\u001b[K     |████████████████████████████████| 7.6 MB 44.3 MB/s \n",
            "\u001b[?25hRequirement already satisfied: filelock in /usr/local/lib/python3.8/dist-packages (from transformers) (3.8.0)\n",
            "Requirement already satisfied: regex!=2019.12.17 in /usr/local/lib/python3.8/dist-packages (from transformers) (2022.6.2)\n",
            "Requirement already satisfied: tqdm>=4.27 in /usr/local/lib/python3.8/dist-packages (from transformers) (4.64.1)\n",
            "Requirement already satisfied: packaging>=20.0 in /usr/local/lib/python3.8/dist-packages (from transformers) (21.3)\n",
            "Requirement already satisfied: requests in /usr/local/lib/python3.8/dist-packages (from transformers) (2.23.0)\n",
            "Requirement already satisfied: typing-extensions>=3.7.4.3 in /usr/local/lib/python3.8/dist-packages (from huggingface-hub<1.0,>=0.10.0->transformers) (4.1.1)\n",
            "Requirement already satisfied: pyparsing!=3.0.5,>=2.0.2 in /usr/local/lib/python3.8/dist-packages (from packaging>=20.0->transformers) (3.0.9)\n",
            "Requirement already satisfied: idna<3,>=2.5 in /usr/local/lib/python3.8/dist-packages (from requests->transformers) (2.10)\n",
            "Requirement already satisfied: chardet<4,>=3.0.2 in /usr/local/lib/python3.8/dist-packages (from requests->transformers) (3.0.4)\n",
            "Requirement already satisfied: certifi>=2017.4.17 in /usr/local/lib/python3.8/dist-packages (from requests->transformers) (2022.9.24)\n",
            "Requirement already satisfied: urllib3!=1.25.0,!=1.25.1,<1.26,>=1.21.1 in /usr/local/lib/python3.8/dist-packages (from requests->transformers) (1.24.3)\n",
            "Installing collected packages: tokenizers, huggingface-hub, transformers\n",
            "Successfully installed huggingface-hub-0.11.1 tokenizers-0.13.2 transformers-4.25.1\n"
          ]
        }
      ],
      "source": [
        "#!pip install torch torchvision timm\n",
        "#!pip install transformers\n",
        "#!pip install torchshow\n",
        "%pip install albumentations\n",
        "%pip install transformers"
      ]
    },
    {
      "cell_type": "markdown",
      "id": "3c23b6e4",
      "metadata": {
        "id": "3c23b6e4"
      },
      "source": [
        "## Import all related packages"
      ]
    },
    {
      "cell_type": "code",
      "execution_count": 2,
      "id": "91e6649e",
      "metadata": {
        "id": "91e6649e"
      },
      "outputs": [],
      "source": [
        "import os\n",
        "import sys\n",
        "import time\n",
        "import math\n",
        "import numpy as np\n",
        "\n",
        "import matplotlib\n",
        "import matplotlib.pyplot as plt\n",
        "from matplotlib.pyplot import figure\n",
        "from matplotlib.patches import Ellipse, Rectangle\n",
        "import matplotlib.transforms as transforms\n",
        "\n",
        "from scipy.stats import gaussian_kde\n",
        "#mute warnings\n",
        "os.environ[\"TF_CPP_MIN_LOG_LEVEL\"] = \"3\""
      ]
    },
    {
      "cell_type": "code",
      "execution_count": 3,
      "id": "fbce5e02",
      "metadata": {
        "id": "fbce5e02"
      },
      "outputs": [],
      "source": [
        "import tensorflow as tf\n",
        "import tensorflow.keras as keras\n",
        "from tensorflow.keras import layers\n",
        "import albumentations as A\n",
        "import pandas as pd\n",
        "#set gpu memory dynamic growth\n",
        "gpus = tf.config.experimental.list_physical_devices('GPU')\n",
        "for gpu in gpus:\n",
        "  tf.config.experimental.set_memory_growth(gpu, True)"
      ]
    },
    {
      "cell_type": "code",
      "execution_count": 4,
      "id": "5616b6b4",
      "metadata": {
        "id": "5616b6b4"
      },
      "outputs": [],
      "source": [
        "plt.style.use('ggplot')\n",
        "#Avoid bug when latex package is not installed. Use default Latex in plt instead.\n",
        "matplotlib.rcParams['text.usetex'] = False\n",
        "# matplotlib.rcParams['text.latex.preamble'] = r'\\usepackage{{amsmath}}'"
      ]
    },
    {
      "cell_type": "markdown",
      "id": "6c9aa4c2",
      "metadata": {
        "id": "6c9aa4c2"
      },
      "source": [
        "## Define Distance Correlation\n",
        "Compute the distance matrices between the given samples\n",
        "\n"
      ]
    },
    {
      "cell_type": "markdown",
      "id": "cd1ac909",
      "metadata": {
        "id": "cd1ac909"
      },
      "source": [
        "Compute the correlation between those two distance matrices"
      ]
    },
    {
      "cell_type": "code",
      "execution_count": 5,
      "id": "1d360b51",
      "metadata": {
        "id": "1d360b51"
      },
      "outputs": [],
      "source": [
        "class Loss_DC(tf.keras.losses.Loss):\n",
        "    def __init__(self):\n",
        "        super(Loss_DC, self).__init__()\n",
        "\n",
        "\n",
        "    def Distance_Correlation(self, latent, control):\n",
        "        matrix_a = tf.math.sqrt(tf.math.reduce_sum(tf.math.square(tf.expand_dims(latent,axis=0)  -  tf.expand_dims(latent,1)),axis=-1) + 1e-12)\n",
        "        matrix_b = tf.math.sqrt(tf.math.reduce_sum(tf.math.square(tf.expand_dims(control,axis=0) -  tf.expand_dims(control,1)),axis=-1) + 1e-12)\n",
        "        # print((tf.math.reduce_sum(tf.math.square(tf.expand_dims(latent,axis=0)  -  tf.expand_dims(latent,1)),axis=-1)).shape)\n",
        "        matrix_A = matrix_a - tf.math.reduce_mean(matrix_a, axis = 0, keepdims= True) - tf.math.reduce_mean(matrix_a, axis = 1, keepdims= True) + tf.math.reduce_mean(matrix_a)\n",
        "        matrix_B = matrix_b - tf.math.reduce_mean(matrix_b, axis = 0, keepdims= True) - tf.math.reduce_mean(matrix_b, axis = 1, keepdims= True) + tf.math.reduce_mean(matrix_b)\n",
        "        # print(tf.math.reduce_mean(matrix_a, axis = 0, keepdims= True).shape)\n",
        "        Gamma_XY = tf.math.reduce_sum(matrix_A * matrix_B)/ (matrix_A.shape[0] * matrix_A.shape[1])\n",
        "        Gamma_XX = tf.math.reduce_sum(matrix_A * matrix_A)/ (matrix_A.shape[0] * matrix_A.shape[1])\n",
        "        Gamma_YY = tf.math.reduce_sum(matrix_B * matrix_B)/ (matrix_A.shape[0] * matrix_A.shape[1])\n",
        "\n",
        "        correlation_r = Gamma_XY/tf.math.sqrt(Gamma_XX * Gamma_YY + 1e-9)\n",
        "        return correlation_r\n",
        "\n",
        "\n",
        "    def call(self, latent, control):\n",
        "        #Avoid OOE on GPU\n",
        "        # with tf.device('/cpu:0'):\n",
        "        dc_loss = self.Distance_Correlation(latent, control)\n",
        "\n",
        "        return dc_loss"
      ]
    },
    {
      "cell_type": "markdown",
      "id": "faf9fcb4",
      "metadata": {
        "id": "faf9fcb4"
      },
      "source": [
        "## Pearson Correlation vs Distance Correlation\n",
        "This demo shows that Distance Correlation is better compared with Pearson Correlation"
      ]
    },
    {
      "cell_type": "code",
      "execution_count": 6,
      "id": "ec292a5f",
      "metadata": {
        "id": "ec292a5f"
      },
      "outputs": [],
      "source": [
        "def Pearson_Correlation(latent, control):\n",
        "    batch_size = latent.shape[0]\n",
        "\n",
        "    up = (latent - tf.math.reduce_mean(latent, axis = 0, keepdims= True) ) * (control - tf.math.reduce_mean(control, axis = 0, keepdims= True) )\n",
        "    up = tf.math.reduce_sum(up) / batch_size\n",
        "\n",
        "    down = tf.math.reduce_sum((latent - tf.math.reduce_mean(latent, axis = 0, keepdims= True) ) ** 2 ) * tf.math.reduce_sum((control - tf.math.reduce_mean(control, axis = 0, keepdims= True) ) ** 2)\n",
        "    down = down / (batch_size ** 2)\n",
        "\n",
        "    return up/tf.math.sqrt(down)"
      ]
    },
    {
      "cell_type": "markdown",
      "id": "3d8e3907",
      "metadata": {
        "id": "3d8e3907"
      },
      "source": [
        "Here, we will use a special case to obtain the eigenvalues of these two-dimensional datasets.\n",
        "Then, calculate the standard deviation of x and y from the square root of the variance and multiplaying with the given number of standard deviations."
      ]
    },
    {
      "cell_type": "code",
      "execution_count": 7,
      "id": "c015333b",
      "metadata": {
        "id": "c015333b"
      },
      "outputs": [],
      "source": [
        "def confidence_ellipse(x, y, ax, n_std=2.9, facecolor='none', cov=None, **kwargs):\n",
        "    if x.size != y.size:\n",
        "        raise ValueError(\"x and y must be the same size\")\n",
        "\n",
        "    pearson = cov[0, 1]/np.sqrt(cov[0, 0] * cov[1, 1])\n",
        "    ell_radius_x = np.sqrt(1 + pearson)\n",
        "    ell_radius_y = np.sqrt(1 - pearson)\n",
        "    ellipse = Ellipse((0, 0), width=ell_radius_x * 2, height=ell_radius_y * 2,\n",
        "                      facecolor=facecolor, lw=3, **kwargs)\n",
        "    scale_x = np.sqrt(cov[0, 0]) * n_std\n",
        "    mean_x = np.mean(x)\n",
        "\n",
        "    scale_y = np.sqrt(cov[1, 1]) * n_std\n",
        "    mean_y = np.mean(y)\n",
        "\n",
        "    transf = transforms.Affine2D() \\\n",
        "        .rotate_deg(45) \\\n",
        "        .scale(scale_x, scale_y) \\\n",
        "        .translate(mean_x, mean_y)\n",
        "\n",
        "    ellipse.set_transform(transf + ax.transData)\n",
        "    return ax.add_patch(ellipse)"
      ]
    },
    {
      "cell_type": "markdown",
      "id": "f55d4a3b",
      "metadata": {
        "id": "f55d4a3b"
      },
      "source": [
        "Now we compare Pearson Correlation and Distance Correlation."
      ]
    },
    {
      "cell_type": "code",
      "execution_count": 8,
      "id": "69315f37",
      "metadata": {
        "colab": {
          "base_uri": "https://localhost:8080/",
          "height": 362
        },
        "id": "69315f37",
        "outputId": "248e4c70-7efc-4a64-eb2d-284ae1c938fd"
      },
      "outputs": [
        {
          "output_type": "stream",
          "name": "stdout",
          "text": [
            "Pearson Correration: 0.005219310803997464\n",
            "Distance Correlation: 0.2075156186236954\n"
          ]
        },
        {
          "output_type": "display_data",
          "data": {
            "text/plain": [
              "<Figure size 240x360 with 1 Axes>"
            ],
            "image/png": "[encoded data removed]"
          },
          "metadata": {}
        }
      ],
      "source": [
        "batch_size=10000\n",
        "Distance_Correlation = Loss_DC()\n",
        "x = np.linspace(-3, 3, num=batch_size)\n",
        "y = np.random.randn(batch_size)\n",
        "\n",
        "y = y + x**2\n",
        "\n",
        "x = tf.constant(x)\n",
        "x = tf.reshape(x,[batch_size,-1])\n",
        "y = tf.constant(y)\n",
        "y = tf.reshape(y,[batch_size,-1])\n",
        "\n",
        "pc = Pearson_Correlation(x,y)\n",
        "dc = Distance_Correlation(x,y)\n",
        "print(f'Pearson Correration: {pc}')\n",
        "print(f'Distance Correlation: {dc}')\n",
        "\n",
        "outR = tf.concat([x,y], axis=-1).numpy()\n",
        "\n",
        "z = gaussian_kde(outR.transpose())(outR.transpose())\n",
        "figure(figsize=(3, 4.5), dpi=80)\n",
        "new_X = np.linspace(-3, 3, num=batch_size)\n",
        "new_Y_low = new_X**2 - 3\n",
        "new_Y_high = new_X**2 + 3\n",
        "plt.plot(new_X, new_X**2, 'b-', alpha=0.8)\n",
        "ax = plt.gca()\n",
        "ax.fill_between(new_X, new_Y_low, new_Y_high, color='b' , alpha=0.1)\n",
        "plt.scatter(x=x[::20], y = y[::20],c=z[::20],s=10,cmap='hot')\n",
        "ax.axis('equal')\n",
        "ax.set(xlim=(-5, 5), ylim=(-5, 15))\n",
        "# ax.set_title(r'$y=x^2+n,n\\sim \\mathcal{N}(0,1)$'))\n",
        "plt.text(0.05, 0.95, 'Pearson Cor : {:0.3f}\\nDistance Cor: {:0.3f}'.format(pc, dc) , horizontalalignment='left',verticalalignment='center', transform=ax.transAxes, size='x-large')\n",
        "plt.savefig('pearson_distance1.png', dpi=300)\n",
        "plt.show()"
      ]
    },
    {
      "cell_type": "code",
      "execution_count": 9,
      "id": "c23c3f13",
      "metadata": {
        "colab": {
          "base_uri": "https://localhost:8080/",
          "height": 362
        },
        "id": "c23c3f13",
        "outputId": "906b5a11-92ea-4ede-a68f-3367a360777a"
      },
      "outputs": [
        {
          "output_type": "stream",
          "name": "stdout",
          "text": [
            "Pearson Correration: 0.6774770365750868\n",
            "Distance Correlation: 0.3973150183251239\n"
          ]
        },
        {
          "output_type": "display_data",
          "data": {
            "text/plain": [
              "<Figure size 240x360 with 1 Axes>"
            ],
            "image/png": "[encoded data removed]"
          },
          "metadata": {}
        }
      ],
      "source": [
        "xy = np.random.multivariate_normal(mean=np.asarray([0,5]), cov = np.asarray([[1,1.5],[1.5,5]]), size=batch_size)\n",
        "x = xy[:,0]\n",
        "y = xy[:,1]\n",
        "\n",
        "x = tf.constant(x)\n",
        "x = tf.reshape(x,[batch_size,-1])\n",
        "y = tf.constant(y)\n",
        "y = tf.reshape(y,[batch_size,-1])\n",
        "\n",
        "pc = Pearson_Correlation(x,y)\n",
        "dc = Distance_Correlation(x,y)\n",
        "print(f'Pearson Correration: {pc}')\n",
        "print(f'Distance Correlation: {dc}')\n",
        "\n",
        "outR = tf.concat([x,y], axis=-1).numpy()\n",
        "z = gaussian_kde(outR.transpose())(outR.transpose())\n",
        "\n",
        "figure(figsize=(3, 4.5), dpi=80)\n",
        "plt.scatter(x=x[::10], y = y[::10],c=z[::10],s=10,cmap='hot')\n",
        "ax = plt.gca()\n",
        "confidence_ellipse(outR[:,0], outR[:,1],ax, cov=np.asarray([[1,1.5],[1.5,5]]), edgecolor=\"red\", facecolor='blue', alpha=0.1)\n",
        "ax.axis('equal')\n",
        "ax.set(xlim=(-5, 5), ylim=(-5, 15))\n",
        "plt.text(0.05, 0.95, 'Pearson Cor : {:0.3f}\\nDistance Cor: {:0.3f}'.format(pc, dc) , horizontalalignment='left',verticalalignment='center', transform=ax.transAxes, size='x-large')\n",
        "plt.savefig('pearson_distance2.png', dpi=300)\n",
        "plt.show()"
      ]
    },
    {
      "cell_type": "code",
      "execution_count": 10,
      "id": "5154cc53",
      "metadata": {
        "colab": {
          "base_uri": "https://localhost:8080/",
          "height": 362
        },
        "id": "5154cc53",
        "outputId": "1fae8e9a-0e91-43b2-d62c-759179395c6d"
      },
      "outputs": [
        {
          "output_type": "stream",
          "name": "stdout",
          "text": [
            "Pearson Correration: 0.010300518375578091\n",
            "Distance Correlation: 0.00027824662754338266\n"
          ]
        },
        {
          "output_type": "display_data",
          "data": {
            "text/plain": [
              "<Figure size 240x360 with 1 Axes>"
            ],
            "image/png": "[encoded data removed]"
          },
          "metadata": {}
        }
      ],
      "source": [
        "xy = np.random.multivariate_normal(mean=np.asarray([0,5]), cov = np.asarray([[1,0],[0,5]]), size=batch_size)\n",
        "x = xy[:,0]\n",
        "y = xy[:,1]\n",
        "\n",
        "x = tf.constant(x)\n",
        "x = tf.reshape(x,[batch_size,-1])\n",
        "y = tf.constant(y)\n",
        "y = tf.reshape(y,[batch_size,-1])\n",
        "\n",
        "pc = Pearson_Correlation(x,y)\n",
        "dc = Distance_Correlation(x,y)\n",
        "print(f'Pearson Correration: {pc}')\n",
        "print(f'Distance Correlation: {dc}')\n",
        "\n",
        "outR = tf.concat([x,y], axis=-1).numpy()\n",
        "z = gaussian_kde(outR.transpose())(outR.transpose())\n",
        "\n",
        "figure(figsize=(3, 4.5), dpi=80)\n",
        "plt.scatter(x=x[::10], y = y[::10],c=z[::10],s=10,cmap='hot')\n",
        "ax = plt.gca()\n",
        "confidence_ellipse(outR[:,0], outR[:,1],ax, cov=np.asarray([[1,0],[0,5]]), edgecolor=None, facecolor='blue', alpha=0.1)\n",
        "ax.axis('equal')\n",
        "ax.set(xlim=(-5, 5), ylim=(-5, 15))\n",
        "plt.text(0.05, 0.95, 'Pearson Cor : {:0.3f}\\nDistance Cor: {:0.3f}'.format(pc.numpy(), dc) , horizontalalignment='left',verticalalignment='center', transform=ax.transAxes, size='x-large')\n",
        "plt.savefig('pearson_distance3.png', dpi=300)\n",
        "plt.show()"
      ]
    },
    {
      "cell_type": "markdown",
      "id": "d5a56ff5",
      "metadata": {
        "id": "d5a56ff5"
      },
      "source": [
        "## Define Models\n",
        "We only use the features to evaluate the similarity between networks"
      ]
    },
    {
      "cell_type": "code",
      "execution_count": 11,
      "id": "c8f8c054",
      "metadata": {
        "colab": {
          "base_uri": "https://localhost:8080/"
        },
        "id": "c8f8c054",
        "outputId": "70b97167-0bb4-4c89-d866-05cb11cead64"
      },
      "outputs": [
        {
          "output_type": "stream",
          "name": "stdout",
          "text": [
            "Downloading data from https://www.cs.toronto.edu/~kriz/cifar-10-python.tar.gz\n",
            "170498071/170498071 [==============================] - 11s 0us/step\n",
            "mean after normalization: [-2.71552120e-14  1.88792759e-15  4.94816688e-15]\n",
            "std after normalization: [1. 1. 1.]\n"
          ]
        }
      ],
      "source": [
        "\n",
        "def normalize(x):\n",
        "  #scale range to [0,1] first, in consistence with Pytorch implementation\n",
        "  x=x/255.0\n",
        "  mean = x.mean(axis=(0,1,2)).reshape(1,1,-1)\n",
        "  std = x.std(axis=(0,1,2)).reshape(1,1,-1)\n",
        "  return (x-mean)/std\n",
        "    \n",
        "transforms=A.Compose([\n",
        "    A.augmentations.RandomCrop(width=32,height=32),#tensorflow does not support RandomCrop with padding\n",
        "    A.augmentations.HorizontalFlip(0.5)    \n",
        "])\n",
        "classes = ('plane', 'car', 'bird', 'cat', 'deer',\n",
        "           'dog', 'frog', 'horse', 'ship', 'truck')\n",
        "(x_train,y_train),(x_test,y_test)=keras.datasets.cifar10.load_data()\n",
        "transform = lambda x: transforms(image=x)['image']\n",
        "\n",
        "for i in range(x_test.shape[0]):\n",
        "    x_test[i]==transform(x_test[i])\n",
        "for i in range(x_train.shape[0]):\n",
        "    x_train[i]==transform(x_train[i])\n",
        "    \n",
        "x_train=normalize(x_train)\n",
        "x_test=normalize(x_test)\n",
        "print(\"mean after normalization:\",x_train.mean(axis=(0,1,2)))\n",
        "print(\"std after normalization:\",x_train.std(axis=(0,1,2)))"
      ]
    },
    {
      "cell_type": "code",
      "execution_count": 12,
      "id": "a88a6a19",
      "metadata": {
        "colab": {
          "base_uri": "https://localhost:8080/"
        },
        "id": "a88a6a19",
        "outputId": "cf635f32-08b8-4426-8f17-e958bbe8d517"
      },
      "outputs": [
        {
          "output_type": "stream",
          "name": "stdout",
          "text": [
            "Downloading data from https://storage.googleapis.com/tensorflow/keras-applications/resnet/resnet50_weights_tf_dim_ordering_tf_kernels_notop.h5\n",
            "94765736/94765736 [==============================] - 4s 0us/step\n",
            "Downloading data from https://storage.googleapis.com/tensorflow/keras-applications/resnet/resnet101_weights_tf_dim_ordering_tf_kernels_notop.h5\n",
            "171446536/171446536 [==============================] - 6s 0us/step\n",
            "1563/1563 [==============================] - 23s 9ms/step\n",
            "1563/1563 [==============================] - 30s 18ms/step\n"
          ]
        },
        {
          "output_type": "execute_result",
          "data": {
            "text/plain": [
              "((50000, 2048), (50000, 2048))"
            ]
          },
          "metadata": {},
          "execution_count": 12
        }
      ],
      "source": [
        "#tensorflow doesn't implement ResNet18\n",
        "model1=keras.applications.ResNet50(include_top=False,input_shape=(32,32,3),weights='imagenet')\n",
        "model2=keras.applications.ResNet101(include_top=False,input_shape=(32,32,3),weights='imagenet')\n",
        "features1 = model1.predict(x_train)\n",
        "features2 = model2.predict(x_train)\n",
        "features1 = features1.reshape(features1.shape[0],-1)\n",
        "features2 = features2.reshape(features2.shape[0],-1)\n",
        "features1.shape,features2.shape\n"
      ]
    },
    {
      "cell_type": "code",
      "execution_count": 13,
      "id": "58285ec9",
      "metadata": {
        "colab": {
          "base_uri": "https://localhost:8080/"
        },
        "id": "58285ec9",
        "outputId": "acbd2554-d40c-4f90-898d-dbdcd14bf286"
      },
      "outputs": [
        {
          "output_type": "stream",
          "name": "stdout",
          "text": [
            "Similarity between model1 and model2: 0.6641550273132324\n"
          ]
        }
      ],
      "source": [
        "similarity = Loss_DC()\n",
        "batch_size=128\n",
        "sim = 0\n",
        "\n",
        "for i in range(batch_size,x_train.shape[0],batch_size):\n",
        "  print(f\"\\rbatch {int(i/batch_size)}\",end=\"\")\n",
        "\n",
        "  idx = np.arange(i-batch_size,i)\n",
        "  sim+=similarity(features1[idx],features2[idx]).numpy()\n",
        "\n",
        "\n",
        "print(f'\\rSimilarity between model1 and model2: {sim/len(x_train)*batch_size}')"
      ]
    },
    {
      "cell_type": "markdown",
      "id": "9352e2ca",
      "metadata": {
        "id": "9352e2ca"
      },
      "source": [
        "## A simple example for partial distance correlation"
      ]
    },
    {
      "cell_type": "code",
      "execution_count": 14,
      "id": "59b89b89",
      "metadata": {
        "colab": {
          "base_uri": "https://localhost:8080/",
          "height": 443,
          "referenced_widgets": [
            "32cee4c44dd64263a87d7980f51d29ec",
            "318ac4b0dcd941388558ba1c06c3dcec",
            "572b087ff6c84f33b9ec2b6a230b8e1c",
            "d1642ed1980a4df695dbb4a182c0b2bb",
            "f825776b1a4b430c9104dd8272275a0d",
            "d8f49b9ad4164af78dcf8a441748c4c8",
            "5afb8a58da69484c8b6c8dd2a3ab8e71",
            "0265c1e8e81e4c33a1d40ed4da827531",
            "edce73980dc64824abc38286c17a7b3b",
            "1caaca9cf97b497b919516f9975a3cd7",
            "0c592df7091b4e2b80661799398e6564",
            "8f9f74efd4c848bdbb4393058e70e9fb",
            "60a71ecc25eb4fa4818674e6c6ca4317",
            "0b30a93836c6424a920727759f38766f",
            "1bb419eb2aeb45259315dfde97cf8e2f",
            "bc63855c0da144f9b54e4d43b3b627a9",
            "70a5096f3e8c47a9a714cd324af256ba",
            "ac44fbe0e6d34455a1bc809e236f6ed4",
            "ad1d6b45775c470fac918166a309c9c6",
            "b9dddbe0cf164edfa1faf5ec4b0317bc",
            "2c952160882948c2b3ada3c169045f58",
            "a62b7e798c8c4cd58af92eb7b6180b37",
            "be2e226c4d914422b6593a403bf6e842",
            "7d75da9e532f4e248bd59bce79b8626d",
            "e003cea49797427c894c2edfc3828711",
            "b166482c17294cf7895f1fc045eee970",
            "09c5d91f1a464f25b885b1f460a79cd2",
            "51706945cf4140d19a5809e96fd6acac",
            "2fe91153312a4088a01f994b9f888ee2",
            "0e0c6b80cdb94a8d81c8346eff486cb7",
            "6db28dba05d141bb8d98f320bac0815d",
            "fe625d60ac0840c3a0caefc318aa8a93",
            "137a1dee976a4323b88a10d09761f88c",
            "6420ed65b54c476e93bfe058cce62020",
            "ecd09a43d39a45bbb1411301f9a496d3",
            "146b4c1924aa4a4c946e3858b2bba56a",
            "cb337809b2a64b82b4c6f2332b99edd7",
            "f8bec7cf08d443afbc803d0362b9d123",
            "dfe49663c3e34c7e9bde199a88953ad9",
            "2a00ce64a1db4f1191b7cbf22e9d6128",
            "cb60212fc6d8443383a9871f09d05e99",
            "2b7f3a59b11d49f2b7b9df803dab55cf",
            "f354bb36ce714109a552a819e4b5de12",
            "f8d4182e8c384658913aea4d2c2317a1"
          ]
        },
        "id": "59b89b89",
        "outputId": "8b94f25c-04bb-4dfe-f516-b16ac7fc50f7"
      },
      "outputs": [
        {
          "output_type": "display_data",
          "data": {
            "text/plain": [
              "Downloading:   0%|          | 0.00/232k [00:00<?, ?B/s]"
            ],
            "application/vnd.jupyter.widget-view+json": {
              "version_major": 2,
              "version_minor": 0,
              "model_id": "32cee4c44dd64263a87d7980f51d29ec"
            }
          },
          "metadata": {}
        },
        {
          "output_type": "display_data",
          "data": {
            "text/plain": [
              "Downloading:   0%|          | 0.00/28.0 [00:00<?, ?B/s]"
            ],
            "application/vnd.jupyter.widget-view+json": {
              "version_major": 2,
              "version_minor": 0,
              "model_id": "8f9f74efd4c848bdbb4393058e70e9fb"
            }
          },
          "metadata": {}
        },
        {
          "output_type": "display_data",
          "data": {
            "text/plain": [
              "Downloading:   0%|          | 0.00/570 [00:00<?, ?B/s]"
            ],
            "application/vnd.jupyter.widget-view+json": {
              "version_major": 2,
              "version_minor": 0,
              "model_id": "be2e226c4d914422b6593a403bf6e842"
            }
          },
          "metadata": {}
        },
        {
          "output_type": "display_data",
          "data": {
            "text/plain": [
              "Downloading:   0%|          | 0.00/536M [00:00<?, ?B/s]"
            ],
            "application/vnd.jupyter.widget-view+json": {
              "version_major": 2,
              "version_minor": 0,
              "model_id": "6420ed65b54c476e93bfe058cce62020"
            }
          },
          "metadata": {}
        },
        {
          "output_type": "stream",
          "name": "stderr",
          "text": [
            "Some layers from the model checkpoint at bert-base-uncased were not used when initializing TFBertModel: ['nsp___cls', 'mlm___cls']\n",
            "- This IS expected if you are initializing TFBertModel from the checkpoint of a model trained on another task or with another architecture (e.g. initializing a BertForSequenceClassification model from a BertForPreTraining model).\n",
            "- This IS NOT expected if you are initializing TFBertModel from the checkpoint of a model that you expect to be exactly identical (initializing a BertForSequenceClassification model from a BertForSequenceClassification model).\n",
            "All the layers of TFBertModel were initialized from the model checkpoint at bert-base-uncased.\n",
            "If your task is similar to the task the model of the checkpoint was trained on, you can already use TFBertModel for predictions without further training.\n"
          ]
        },
        {
          "output_type": "execute_result",
          "data": {
            "text/plain": [
              "      plane       car      bird       cat      deer       dog      frog  \\\n",
              "0 -0.778572 -0.787241 -0.858110 -0.751022 -0.968879 -0.865062 -0.883761   \n",
              "1 -0.185883 -0.168564 -0.290150 -0.169207 -0.527162 -0.316793 -0.291923   \n",
              "2  0.546288  0.245530  0.357177  0.490521 -0.837614 -0.094327  0.263216   \n",
              "3  0.596004  0.655340  0.735480  0.570933  0.909102  0.786214  0.742419   \n",
              "4 -0.394308 -0.091688 -0.045644 -0.370888  0.744903  0.057494  0.010459   \n",
              "\n",
              "      horse      ship     truck  \n",
              "0 -0.862523 -0.729765 -0.821767  \n",
              "1 -0.362023 -0.193511 -0.164111  \n",
              "2 -0.061634  0.524687  0.292495  \n",
              "3  0.792160  0.550749  0.696199  \n",
              "4  0.054226 -0.389657 -0.173794  "
            ],
            "text/html": [
              "\n",
              "  <div id=\"df-749981d3-5fd0-4dd5-b5ef-4d94ea590a75\">\n",
              "    <div class=\"colab-df-container\">\n",
              "      <div>\n",
              "<style scoped>\n",
              "    .dataframe tbody tr th:only-of-type {\n",
              "        vertical-align: middle;\n",
              "    }\n",
              "\n",
              "    .dataframe tbody tr th {\n",
              "        vertical-align: top;\n",
              "    }\n",
              "\n",
              "    .dataframe thead th {\n",
              "        text-align: right;\n",
              "    }\n",
              "</style>\n",
              "<table border=\"1\" class=\"dataframe\">\n",
              "  <thead>\n",
              "    <tr style=\"text-align: right;\">\n",
              "      <th></th>\n",
              "      <th>plane</th>\n",
              "      <th>car</th>\n",
              "      <th>bird</th>\n",
              "      <th>cat</th>\n",
              "      <th>deer</th>\n",
              "      <th>dog</th>\n",
              "      <th>frog</th>\n",
              "      <th>horse</th>\n",
              "      <th>ship</th>\n",
              "      <th>truck</th>\n",
              "    </tr>\n",
              "  </thead>\n",
              "  <tbody>\n",
              "    <tr>\n",
              "      <th>0</th>\n",
              "      <td>-0.778572</td>\n",
              "      <td>-0.787241</td>\n",
              "      <td>-0.858110</td>\n",
              "      <td>-0.751022</td>\n",
              "      <td>-0.968879</td>\n",
              "      <td>-0.865062</td>\n",
              "      <td>-0.883761</td>\n",
              "      <td>-0.862523</td>\n",
              "      <td>-0.729765</td>\n",
              "      <td>-0.821767</td>\n",
              "    </tr>\n",
              "    <tr>\n",
              "      <th>1</th>\n",
              "      <td>-0.185883</td>\n",
              "      <td>-0.168564</td>\n",
              "      <td>-0.290150</td>\n",
              "      <td>-0.169207</td>\n",
              "      <td>-0.527162</td>\n",
              "      <td>-0.316793</td>\n",
              "      <td>-0.291923</td>\n",
              "      <td>-0.362023</td>\n",
              "      <td>-0.193511</td>\n",
              "      <td>-0.164111</td>\n",
              "    </tr>\n",
              "    <tr>\n",
              "      <th>2</th>\n",
              "      <td>0.546288</td>\n",
              "      <td>0.245530</td>\n",
              "      <td>0.357177</td>\n",
              "      <td>0.490521</td>\n",
              "      <td>-0.837614</td>\n",
              "      <td>-0.094327</td>\n",
              "      <td>0.263216</td>\n",
              "      <td>-0.061634</td>\n",
              "      <td>0.524687</td>\n",
              "      <td>0.292495</td>\n",
              "    </tr>\n",
              "    <tr>\n",
              "      <th>3</th>\n",
              "      <td>0.596004</td>\n",
              "      <td>0.655340</td>\n",
              "      <td>0.735480</td>\n",
              "      <td>0.570933</td>\n",
              "      <td>0.909102</td>\n",
              "      <td>0.786214</td>\n",
              "      <td>0.742419</td>\n",
              "      <td>0.792160</td>\n",
              "      <td>0.550749</td>\n",
              "      <td>0.696199</td>\n",
              "    </tr>\n",
              "    <tr>\n",
              "      <th>4</th>\n",
              "      <td>-0.394308</td>\n",
              "      <td>-0.091688</td>\n",
              "      <td>-0.045644</td>\n",
              "      <td>-0.370888</td>\n",
              "      <td>0.744903</td>\n",
              "      <td>0.057494</td>\n",
              "      <td>0.010459</td>\n",
              "      <td>0.054226</td>\n",
              "      <td>-0.389657</td>\n",
              "      <td>-0.173794</td>\n",
              "    </tr>\n",
              "  </tbody>\n",
              "</table>\n",
              "</div>\n",
              "      <button class=\"colab-df-convert\" onclick=\"convertToInteractive('df-749981d3-5fd0-4dd5-b5ef-4d94ea590a75')\"\n",
              "              title=\"Convert this dataframe to an interactive table.\"\n",
              "              style=\"display:none;\">\n",
              "        \n",
              "  <svg xmlns=\"http://www.w3.org/2000/svg\" height=\"24px\"viewBox=\"0 0 24 24\"\n",
              "       width=\"24px\">\n",
              "    <path d=\"M0 0h24v24H0V0z\" fill=\"none\"/>\n",
              "    <path d=\"M18.56 5.44l.94 2.06.94-2.06 2.06-.94-2.06-.94-.94-2.06-.94 2.06-2.06.94zm-11 1L8.5 8.5l.94-2.06 2.06-.94-2.06-.94L8.5 2.5l-.94 2.06-2.06.94zm10 10l.94 2.06.94-2.06 2.06-.94-2.06-.94-.94-2.06-.94 2.06-2.06.94z\"/><path d=\"M17.41 7.96l-1.37-1.37c-.4-.4-.92-.59-1.43-.59-.52 0-1.04.2-1.43.59L10.3 9.45l-7.72 7.72c-.78.78-.78 2.05 0 2.83L4 21.41c.39.39.9.59 1.41.59.51 0 1.02-.2 1.41-.59l7.78-7.78 2.81-2.81c.8-.78.8-2.07 0-2.86zM5.41 20L4 18.59l7.72-7.72 1.47 1.35L5.41 20z\"/>\n",
              "  </svg>\n",
              "      </button>\n",
              "      \n",
              "  <style>\n",
              "    .colab-df-container {\n",
              "      display:flex;\n",
              "      flex-wrap:wrap;\n",
              "      gap: 12px;\n",
              "    }\n",
              "\n",
              "    .colab-df-convert {\n",
              "      background-color: #E8F0FE;\n",
              "      border: none;\n",
              "      border-radius: 50%;\n",
              "      cursor: pointer;\n",
              "      display: none;\n",
              "      fill: #1967D2;\n",
              "      height: 32px;\n",
              "      padding: 0 0 0 0;\n",
              "      width: 32px;\n",
              "    }\n",
              "\n",
              "    .colab-df-convert:hover {\n",
              "      background-color: #E2EBFA;\n",
              "      box-shadow: 0px 1px 2px rgba(60, 64, 67, 0.3), 0px 1px 3px 1px rgba(60, 64, 67, 0.15);\n",
              "      fill: #174EA6;\n",
              "    }\n",
              "\n",
              "    [theme=dark] .colab-df-convert {\n",
              "      background-color: #3B4455;\n",
              "      fill: #D2E3FC;\n",
              "    }\n",
              "\n",
              "    [theme=dark] .colab-df-convert:hover {\n",
              "      background-color: #434B5C;\n",
              "      box-shadow: 0px 1px 3px 1px rgba(0, 0, 0, 0.15);\n",
              "      filter: drop-shadow(0px 1px 2px rgba(0, 0, 0, 0.3));\n",
              "      fill: #FFFFFF;\n",
              "    }\n",
              "  </style>\n",
              "\n",
              "      <script>\n",
              "        const buttonEl =\n",
              "          document.querySelector('#df-749981d3-5fd0-4dd5-b5ef-4d94ea590a75 button.colab-df-convert');\n",
              "        buttonEl.style.display =\n",
              "          google.colab.kernel.accessAllowed ? 'block' : 'none';\n",
              "\n",
              "        async function convertToInteractive(key) {\n",
              "          const element = document.querySelector('#df-749981d3-5fd0-4dd5-b5ef-4d94ea590a75');\n",
              "          const dataTable =\n",
              "            await google.colab.kernel.invokeFunction('convertToInteractive',\n",
              "                                                     [key], {});\n",
              "          if (!dataTable) return;\n",
              "\n",
              "          const docLinkHtml = 'Like what you see? Visit the ' +\n",
              "            '<a target=\"_blank\" href=https://colab.research.google.com/notebooks/data_table.ipynb>data table notebook</a>'\n",
              "            + ' to learn more about interactive tables.';\n",
              "          element.innerHTML = '';\n",
              "          dataTable['output_type'] = 'display_data';\n",
              "          await google.colab.output.renderOutput(dataTable, element);\n",
              "          const docLink = document.createElement('div');\n",
              "          docLink.innerHTML = docLinkHtml;\n",
              "          element.appendChild(docLink);\n",
              "        }\n",
              "      </script>\n",
              "    </div>\n",
              "  </div>\n",
              "  "
            ]
          },
          "metadata": {},
          "execution_count": 14
        }
      ],
      "source": [
        "from transformers import BertTokenizer, TFBertModel\n",
        "tokenizer = BertTokenizer.from_pretrained('bert-base-uncased')\n",
        "embed_model = TFBertModel.from_pretrained(\"bert-base-uncased\")\n",
        "\n",
        "class_embedding = []\n",
        "for cifar_class in classes:\n",
        "    encoded_input = tokenizer(cifar_class.lower(), return_tensors='tf')\n",
        "    output = embed_model(**encoded_input)\n",
        "    class_embedding.append(output[1])\n",
        "class_embedding = tf.concat(class_embedding,axis=0)\n",
        "class_embedding_DF = pd.DataFrame(class_embedding.numpy())\n",
        "class_embedding_tranp_DF = class_embedding_DF.transpose()\n",
        "class_embedding_tranp_DF.columns = classes\n",
        "class_embedding_tranp_DF.head()\n"
      ]
    },
    {
      "cell_type": "markdown",
      "id": "19eae044",
      "metadata": {
        "id": "19eae044"
      },
      "source": [
        "## Definition of the Partial Distance Correlation"
      ]
    },
    {
      "cell_type": "code",
      "execution_count": 15,
      "id": "471d94fb",
      "metadata": {
        "id": "471d94fb"
      },
      "outputs": [],
      "source": [
        "def P_Distance_Matrix(latent):\n",
        "    n = latent.shape[0]\n",
        "    matrix_a = tf.math.sqrt(tf.math.reduce_sum(tf.square(tf.expand_dims(latent,axis=0) - tf.expand_dims(latent,axis=1) ), axis = -1) + 1e-18)\n",
        "    matrix_A = matrix_a - tf.math.reduce_sum(matrix_a, axis = 0, keepdims= True)/(n-2) - tf.math.reduce_sum(matrix_a, axis = 1, keepdims= True)/(n-2) \\\n",
        "                + tf.math.reduce_sum(matrix_a)/((n-1)*(n-2))\n",
        "\n",
        "    diag_A = tf.linalg.diag(tf.linalg.diag(matrix_A) ) \n",
        "    matrix_A = matrix_A - diag_A\n",
        "    return matrix_A\n",
        "\n",
        "\n",
        "def bracket_op(matrix_A, matrix_B):\n",
        "    n = matrix_A.shape[0]\n",
        "    return tf.math.reduce_sum(matrix_A * matrix_B)/(n*(n-3))\n",
        "\n",
        "\n",
        "def P_removal(matrix_A, matrix_C):\n",
        "    result = matrix_A - bracket_op(matrix_A, matrix_C) / bracket_op(matrix_C, matrix_C) * matrix_C\n",
        "    return result\n",
        "\n",
        "def Correlation(matrix_A, matrix_B):\n",
        "    Gamma_XY = bracket_op(matrix_A, matrix_B)\n",
        "    Gamma_XX = bracket_op(matrix_A, matrix_A)\n",
        "    Gamma_YY = bracket_op(matrix_B, matrix_B)\n",
        "\n",
        "    correlation_r = Gamma_XY/tf.math.sqrt(Gamma_XX * Gamma_YY + 1e-18)\n",
        "\n",
        "    return correlation_r\n",
        "\n",
        "\n",
        "def P_DC(latent_A, latent_B, ground_truth):\n",
        "    matrix_A = P_Distance_Matrix(latent_A)\n",
        "    matrix_B = P_Distance_Matrix(latent_B)\n",
        "    matrix_GT = P_Distance_Matrix(ground_truth)\n",
        "\n",
        "    matrix_A_B = P_removal(matrix_A, matrix_B)\n",
        "\n",
        "    cr = Correlation(matrix_A_B, matrix_GT)\n",
        "\n",
        "    return cr\n",
        "\n",
        "\n",
        "def New_DC(latent_A, ground_truth):\n",
        "    matrix_A = P_Distance_Matrix(latent_A)\n",
        "    matrix_GT = P_Distance_Matrix(ground_truth)\n",
        "    cr = Correlation(matrix_A, matrix_GT)\n",
        "\n",
        "    return cr"
      ]
    },
    {
      "cell_type": "markdown",
      "id": "d0f4b8be",
      "metadata": {
        "id": "d0f4b8be"
      },
      "source": [
        "We will remove model 2 from model 1 and measure the influence of the main networks. "
      ]
    },
    {
      "cell_type": "code",
      "execution_count": 19,
      "id": "900b28b7",
      "metadata": {
        "colab": {
          "base_uri": "https://localhost:8080/"
        },
        "id": "900b28b7",
        "outputId": "7af5639b-51d0-4518-8a95-9929e6bace7c"
      },
      "outputs": [
        {
          "output_type": "stream",
          "name": "stdout",
          "text": [
            "\r Partial Distance after removing model 2 from model 1: 0.04668523239158094\n"
          ]
        }
      ],
      "source": [
        "total_pdc = 0\n",
        "batch_size=100\n",
        "\n",
        "\n",
        "\n",
        "for i in range(batch_size,x_train.shape[0],batch_size):\n",
        "  print(f\"\\rbatch {int(i/batch_size)}\",end=\"\")\n",
        "\n",
        "  idx = np.arange(i-batch_size,i)\n",
        "\n",
        "  targets = tf.squeeze(y_train[idx].astype('int32'))\n",
        "  ground_truth = tf.gather(class_embedding,targets)#uint8 not allowed as index\n",
        "  total_pdc+=P_DC(features1[idx],features2[idx],ground_truth).numpy()\n",
        "\n",
        "print(\"\\r Partial Distance after removing model 2 from model 1:\",total_pdc/len(x_train)*batch_size)"
      ]
    }
  ],
  "metadata": {
    "kernelspec": {
      "display_name": "Python 3.8.13 ('tf')",
      "language": "python",
      "name": "python3"
    },
    "language_info": {
      "codemirror_mode": {
        "name": "ipython",
        "version": 3
      },
      "file_extension": ".py",
      "mimetype": "text/x-python",
      "name": "python",
      "nbconvert_exporter": "python",
      "pygments_lexer": "ipython3",
      "version": "3.8.13"
    },
    "vscode": {
      "interpreter": {
        "hash": "5b5d21ca1a1212bc4c18a4529ccccb118e6149a909eae26968ed5b6e7e8001d6"
      }
    },
    "colab": {
      "provenance": [],
      "machine_shape": "hm"
    },
    "accelerator": "GPU",
    "gpuClass": "standard",
    "widgets": {
      "application/vnd.jupyter.widget-state+json": {
        "32cee4c44dd64263a87d7980f51d29ec": {
          "model_module": "@jupyter-widgets/controls",
          "model_name": "HBoxModel",
          "model_module_version": "1.5.0",
          "state": {
            "_dom_classes": [],
            "_model_module": "@jupyter-widgets/controls",
            "_model_module_version": "1.5.0",
            "_model_name": "HBoxModel",
            "_view_count": null,
            "_view_module": "@jupyter-widgets/controls",
            "_view_module_version": "1.5.0",
            "_view_name": "HBoxView",
            "box_style": "",
            "children": [
              "IPY_MODEL_318ac4b0dcd941388558ba1c06c3dcec",
              "IPY_MODEL_572b087ff6c84f33b9ec2b6a230b8e1c",
              "IPY_MODEL_d1642ed1980a4df695dbb4a182c0b2bb"
            ],
            "layout": "IPY_MODEL_f825776b1a4b430c9104dd8272275a0d"
          }
        },
        "318ac4b0dcd941388558ba1c06c3dcec": {
          "model_module": "@jupyter-widgets/controls",
          "model_name": "HTMLModel",
          "model_module_version": "1.5.0",
          "state": {
            "_dom_classes": [],
            "_model_module": "@jupyter-widgets/controls",
            "_model_module_version": "1.5.0",
            "_model_name": "HTMLModel",
            "_view_count": null,
            "_view_module": "@jupyter-widgets/controls",
            "_view_module_version": "1.5.0",
            "_view_name": "HTMLView",
            "description": "",
            "description_tooltip": null,
            "layout": "IPY_MODEL_d8f49b9ad4164af78dcf8a441748c4c8",
            "placeholder": "​",
            "style": "IPY_MODEL_5afb8a58da69484c8b6c8dd2a3ab8e71",
            "value": "Downloading: 100%"
          }
        },
        "572b087ff6c84f33b9ec2b6a230b8e1c": {
          "model_module": "@jupyter-widgets/controls",
          "model_name": "FloatProgressModel",
          "model_module_version": "1.5.0",
          "state": {
            "_dom_classes": [],
            "_model_module": "@jupyter-widgets/controls",
            "_model_module_version": "1.5.0",
            "_model_name": "FloatProgressModel",
            "_view_count": null,
            "_view_module": "@jupyter-widgets/controls",
            "_view_module_version": "1.5.0",
            "_view_name": "ProgressView",
            "bar_style": "success",
            "description": "",
            "description_tooltip": null,
            "layout": "IPY_MODEL_0265c1e8e81e4c33a1d40ed4da827531",
            "max": 231508,
            "min": 0,
            "orientation": "horizontal",
            "style": "IPY_MODEL_edce73980dc64824abc38286c17a7b3b",
            "value": 231508
          }
        },
        "d1642ed1980a4df695dbb4a182c0b2bb": {
          "model_module": "@jupyter-widgets/controls",
          "model_name": "HTMLModel",
          "model_module_version": "1.5.0",
          "state": {
            "_dom_classes": [],
            "_model_module": "@jupyter-widgets/controls",
            "_model_module_version": "1.5.0",
            "_model_name": "HTMLModel",
            "_view_count": null,
            "_view_module": "@jupyter-widgets/controls",
            "_view_module_version": "1.5.0",
            "_view_name": "HTMLView",
            "description": "",
            "description_tooltip": null,
            "layout": "IPY_MODEL_1caaca9cf97b497b919516f9975a3cd7",
            "placeholder": "​",
            "style": "IPY_MODEL_0c592df7091b4e2b80661799398e6564",
            "value": " 232k/232k [00:00&lt;00:00, 406kB/s]"
          }
        },
        "f825776b1a4b430c9104dd8272275a0d": {
          "model_module": "@jupyter-widgets/base",
          "model_name": "LayoutModel",
          "model_module_version": "1.2.0",
          "state": {
            "_model_module": "@jupyter-widgets/base",
            "_model_module_version": "1.2.0",
            "_model_name": "LayoutModel",
            "_view_count": null,
            "_view_module": "@jupyter-widgets/base",
            "_view_module_version": "1.2.0",
            "_view_name": "LayoutView",
            "align_content": null,
            "align_items": null,
            "align_self": null,
            "border": null,
            "bottom": null,
            "display": null,
            "flex": null,
            "flex_flow": null,
            "grid_area": null,
            "grid_auto_columns": null,
            "grid_auto_flow": null,
            "grid_auto_rows": null,
            "grid_column": null,
            "grid_gap": null,
            "grid_row": null,
            "grid_template_areas": null,
            "grid_template_columns": null,
            "grid_template_rows": null,
            "height": null,
            "justify_content": null,
            "justify_items": null,
            "left": null,
            "margin": null,
            "max_height": null,
            "max_width": null,
            "min_height": null,
            "min_width": null,
            "object_fit": null,
            "object_position": null,
            "order": null,
            "overflow": null,
            "overflow_x": null,
            "overflow_y": null,
            "padding": null,
            "right": null,
            "top": null,
            "visibility": null,
            "width": null
          }
        },
        "d8f49b9ad4164af78dcf8a441748c4c8": {
          "model_module": "@jupyter-widgets/base",
          "model_name": "LayoutModel",
          "model_module_version": "1.2.0",
          "state": {
            "_model_module": "@jupyter-widgets/base",
            "_model_module_version": "1.2.0",
            "_model_name": "LayoutModel",
            "_view_count": null,
            "_view_module": "@jupyter-widgets/base",
            "_view_module_version": "1.2.0",
            "_view_name": "LayoutView",
            "align_content": null,
            "align_items": null,
            "align_self": null,
            "border": null,
            "bottom": null,
            "display": null,
            "flex": null,
            "flex_flow": null,
            "grid_area": null,
            "grid_auto_columns": null,
            "grid_auto_flow": null,
            "grid_auto_rows": null,
            "grid_column": null,
            "grid_gap": null,
            "grid_row": null,
            "grid_template_areas": null,
            "grid_template_columns": null,
            "grid_template_rows": null,
            "height": null,
            "justify_content": null,
            "justify_items": null,
            "left": null,
            "margin": null,
            "max_height": null,
            "max_width": null,
            "min_height": null,
            "min_width": null,
            "object_fit": null,
            "object_position": null,
            "order": null,
            "overflow": null,
            "overflow_x": null,
            "overflow_y": null,
            "padding": null,
            "right": null,
            "top": null,
            "visibility": null,
            "width": null
          }
        },
        "5afb8a58da69484c8b6c8dd2a3ab8e71": {
          "model_module": "@jupyter-widgets/controls",
          "model_name": "DescriptionStyleModel",
          "model_module_version": "1.5.0",
          "state": {
            "_model_module": "@jupyter-widgets/controls",
            "_model_module_version": "1.5.0",
            "_model_name": "DescriptionStyleModel",
            "_view_count": null,
            "_view_module": "@jupyter-widgets/base",
            "_view_module_version": "1.2.0",
            "_view_name": "StyleView",
            "description_width": ""
          }
        },
        "0265c1e8e81e4c33a1d40ed4da827531": {
          "model_module": "@jupyter-widgets/base",
          "model_name": "LayoutModel",
          "model_module_version": "1.2.0",
          "state": {
            "_model_module": "@jupyter-widgets/base",
            "_model_module_version": "1.2.0",
            "_model_name": "LayoutModel",
            "_view_count": null,
            "_view_module": "@jupyter-widgets/base",
            "_view_module_version": "1.2.0",
            "_view_name": "LayoutView",
            "align_content": null,
            "align_items": null,
            "align_self": null,
            "border": null,
            "bottom": null,
            "display": null,
            "flex": null,
            "flex_flow": null,
            "grid_area": null,
            "grid_auto_columns": null,
            "grid_auto_flow": null,
            "grid_auto_rows": null,
            "grid_column": null,
            "grid_gap": null,
            "grid_row": null,
            "grid_template_areas": null,
            "grid_template_columns": null,
            "grid_template_rows": null,
            "height": null,
            "justify_content": null,
            "justify_items": null,
            "left": null,
            "margin": null,
            "max_height": null,
            "max_width": null,
            "min_height": null,
            "min_width": null,
            "object_fit": null,
            "object_position": null,
            "order": null,
            "overflow": null,
            "overflow_x": null,
            "overflow_y": null,
            "padding": null,
            "right": null,
            "top": null,
            "visibility": null,
            "width": null
          }
        },
        "edce73980dc64824abc38286c17a7b3b": {
          "model_module": "@jupyter-widgets/controls",
          "model_name": "ProgressStyleModel",
          "model_module_version": "1.5.0",
          "state": {
            "_model_module": "@jupyter-widgets/controls",
            "_model_module_version": "1.5.0",
            "_model_name": "ProgressStyleModel",
            "_view_count": null,
            "_view_module": "@jupyter-widgets/base",
            "_view_module_version": "1.2.0",
            "_view_name": "StyleView",
            "bar_color": null,
            "description_width": ""
          }
        },
        "1caaca9cf97b497b919516f9975a3cd7": {
          "model_module": "@jupyter-widgets/base",
          "model_name": "LayoutModel",
          "model_module_version": "1.2.0",
          "state": {
            "_model_module": "@jupyter-widgets/base",
            "_model_module_version": "1.2.0",
            "_model_name": "LayoutModel",
            "_view_count": null,
            "_view_module": "@jupyter-widgets/base",
            "_view_module_version": "1.2.0",
            "_view_name": "LayoutView",
            "align_content": null,
            "align_items": null,
            "align_self": null,
            "border": null,
            "bottom": null,
            "display": null,
            "flex": null,
            "flex_flow": null,
            "grid_area": null,
            "grid_auto_columns": null,
            "grid_auto_flow": null,
            "grid_auto_rows": null,
            "grid_column": null,
            "grid_gap": null,
            "grid_row": null,
            "grid_template_areas": null,
            "grid_template_columns": null,
            "grid_template_rows": null,
            "height": null,
            "justify_content": null,
            "justify_items": null,
            "left": null,
            "margin": null,
            "max_height": null,
            "max_width": null,
            "min_height": null,
            "min_width": null,
            "object_fit": null,
            "object_position": null,
            "order": null,
            "overflow": null,
            "overflow_x": null,
            "overflow_y": null,
            "padding": null,
            "right": null,
            "top": null,
            "visibility": null,
            "width": null
          }
        },
        "0c592df7091b4e2b80661799398e6564": {
          "model_module": "@jupyter-widgets/controls",
          "model_name": "DescriptionStyleModel",
          "model_module_version": "1.5.0",
          "state": {
            "_model_module": "@jupyter-widgets/controls",
            "_model_module_version": "1.5.0",
            "_model_name": "DescriptionStyleModel",
            "_view_count": null,
            "_view_module": "@jupyter-widgets/base",
            "_view_module_version": "1.2.0",
            "_view_name": "StyleView",
            "description_width": ""
          }
        },
        "8f9f74efd4c848bdbb4393058e70e9fb": {
          "model_module": "@jupyter-widgets/controls",
          "model_name": "HBoxModel",
          "model_module_version": "1.5.0",
          "state": {
            "_dom_classes": [],
            "_model_module": "@jupyter-widgets/controls",
            "_model_module_version": "1.5.0",
            "_model_name": "HBoxModel",
            "_view_count": null,
            "_view_module": "@jupyter-widgets/controls",
            "_view_module_version": "1.5.0",
            "_view_name": "HBoxView",
            "box_style": "",
            "children": [
              "IPY_MODEL_60a71ecc25eb4fa4818674e6c6ca4317",
              "IPY_MODEL_0b30a93836c6424a920727759f38766f",
              "IPY_MODEL_1bb419eb2aeb45259315dfde97cf8e2f"
            ],
            "layout": "IPY_MODEL_bc63855c0da144f9b54e4d43b3b627a9"
          }
        },
        "60a71ecc25eb4fa4818674e6c6ca4317": {
          "model_module": "@jupyter-widgets/controls",
          "model_name": "HTMLModel",
          "model_module_version": "1.5.0",
          "state": {
            "_dom_classes": [],
            "_model_module": "@jupyter-widgets/controls",
            "_model_module_version": "1.5.0",
            "_model_name": "HTMLModel",
            "_view_count": null,
            "_view_module": "@jupyter-widgets/controls",
            "_view_module_version": "1.5.0",
            "_view_name": "HTMLView",
            "description": "",
            "description_tooltip": null,
            "layout": "IPY_MODEL_70a5096f3e8c47a9a714cd324af256ba",
            "placeholder": "​",
            "style": "IPY_MODEL_ac44fbe0e6d34455a1bc809e236f6ed4",
            "value": "Downloading: 100%"
          }
        },
        "0b30a93836c6424a920727759f38766f": {
          "model_module": "@jupyter-widgets/controls",
          "model_name": "FloatProgressModel",
          "model_module_version": "1.5.0",
          "state": {
            "_dom_classes": [],
            "_model_module": "@jupyter-widgets/controls",
            "_model_module_version": "1.5.0",
            "_model_name": "FloatProgressModel",
            "_view_count": null,
            "_view_module": "@jupyter-widgets/controls",
            "_view_module_version": "1.5.0",
            "_view_name": "ProgressView",
            "bar_style": "success",
            "description": "",
            "description_tooltip": null,
            "layout": "IPY_MODEL_ad1d6b45775c470fac918166a309c9c6",
            "max": 28,
            "min": 0,
            "orientation": "horizontal",
            "style": "IPY_MODEL_b9dddbe0cf164edfa1faf5ec4b0317bc",
            "value": 28
          }
        },
        "1bb419eb2aeb45259315dfde97cf8e2f": {
          "model_module": "@jupyter-widgets/controls",
          "model_name": "HTMLModel",
          "model_module_version": "1.5.0",
          "state": {
            "_dom_classes": [],
            "_model_module": "@jupyter-widgets/controls",
            "_model_module_version": "1.5.0",
            "_model_name": "HTMLModel",
            "_view_count": null,
            "_view_module": "@jupyter-widgets/controls",
            "_view_module_version": "1.5.0",
            "_view_name": "HTMLView",
            "description": "",
            "description_tooltip": null,
            "layout": "IPY_MODEL_2c952160882948c2b3ada3c169045f58",
            "placeholder": "​",
            "style": "IPY_MODEL_a62b7e798c8c4cd58af92eb7b6180b37",
            "value": " 28.0/28.0 [00:00&lt;00:00, 859B/s]"
          }
        },
        "bc63855c0da144f9b54e4d43b3b627a9": {
          "model_module": "@jupyter-widgets/base",
          "model_name": "LayoutModel",
          "model_module_version": "1.2.0",
          "state": {
            "_model_module": "@jupyter-widgets/base",
            "_model_module_version": "1.2.0",
            "_model_name": "LayoutModel",
            "_view_count": null,
            "_view_module": "@jupyter-widgets/base",
            "_view_module_version": "1.2.0",
            "_view_name": "LayoutView",
            "align_content": null,
            "align_items": null,
            "align_self": null,
            "border": null,
            "bottom": null,
            "display": null,
            "flex": null,
            "flex_flow": null,
            "grid_area": null,
            "grid_auto_columns": null,
            "grid_auto_flow": null,
            "grid_auto_rows": null,
            "grid_column": null,
            "grid_gap": null,
            "grid_row": null,
            "grid_template_areas": null,
            "grid_template_columns": null,
            "grid_template_rows": null,
            "height": null,
            "justify_content": null,
            "justify_items": null,
            "left": null,
            "margin": null,
            "max_height": null,
            "max_width": null,
            "min_height": null,
            "min_width": null,
            "object_fit": null,
            "object_position": null,
            "order": null,
            "overflow": null,
            "overflow_x": null,
            "overflow_y": null,
            "padding": null,
            "right": null,
            "top": null,
            "visibility": null,
            "width": null
          }
        },
        "70a5096f3e8c47a9a714cd324af256ba": {
          "model_module": "@jupyter-widgets/base",
          "model_name": "LayoutModel",
          "model_module_version": "1.2.0",
          "state": {
            "_model_module": "@jupyter-widgets/base",
            "_model_module_version": "1.2.0",
            "_model_name": "LayoutModel",
            "_view_count": null,
            "_view_module": "@jupyter-widgets/base",
            "_view_module_version": "1.2.0",
            "_view_name": "LayoutView",
            "align_content": null,
            "align_items": null,
            "align_self": null,
            "border": null,
            "bottom": null,
            "display": null,
            "flex": null,
            "flex_flow": null,
            "grid_area": null,
            "grid_auto_columns": null,
            "grid_auto_flow": null,
            "grid_auto_rows": null,
            "grid_column": null,
            "grid_gap": null,
            "grid_row": null,
            "grid_template_areas": null,
            "grid_template_columns": null,
            "grid_template_rows": null,
            "height": null,
            "justify_content": null,
            "justify_items": null,
            "left": null,
            "margin": null,
            "max_height": null,
            "max_width": null,
            "min_height": null,
            "min_width": null,
            "object_fit": null,
            "object_position": null,
            "order": null,
            "overflow": null,
            "overflow_x": null,
            "overflow_y": null,
            "padding": null,
            "right": null,
            "top": null,
            "visibility": null,
            "width": null
          }
        },
        "ac44fbe0e6d34455a1bc809e236f6ed4": {
          "model_module": "@jupyter-widgets/controls",
          "model_name": "DescriptionStyleModel",
          "model_module_version": "1.5.0",
          "state": {
            "_model_module": "@jupyter-widgets/controls",
            "_model_module_version": "1.5.0",
            "_model_name": "DescriptionStyleModel",
            "_view_count": null,
            "_view_module": "@jupyter-widgets/base",
            "_view_module_version": "1.2.0",
            "_view_name": "StyleView",
            "description_width": ""
          }
        },
        "ad1d6b45775c470fac918166a309c9c6": {
          "model_module": "@jupyter-widgets/base",
          "model_name": "LayoutModel",
          "model_module_version": "1.2.0",
          "state": {
            "_model_module": "@jupyter-widgets/base",
            "_model_module_version": "1.2.0",
            "_model_name": "LayoutModel",
            "_view_count": null,
            "_view_module": "@jupyter-widgets/base",
            "_view_module_version": "1.2.0",
            "_view_name": "LayoutView",
            "align_content": null,
            "align_items": null,
            "align_self": null,
            "border": null,
            "bottom": null,
            "display": null,
            "flex": null,
            "flex_flow": null,
            "grid_area": null,
            "grid_auto_columns": null,
            "grid_auto_flow": null,
            "grid_auto_rows": null,
            "grid_column": null,
            "grid_gap": null,
            "grid_row": null,
            "grid_template_areas": null,
            "grid_template_columns": null,
            "grid_template_rows": null,
            "height": null,
            "justify_content": null,
            "justify_items": null,
            "left": null,
            "margin": null,
            "max_height": null,
            "max_width": null,
            "min_height": null,
            "min_width": null,
            "object_fit": null,
            "object_position": null,
            "order": null,
            "overflow": null,
            "overflow_x": null,
            "overflow_y": null,
            "padding": null,
            "right": null,
            "top": null,
            "visibility": null,
            "width": null
          }
        },
        "b9dddbe0cf164edfa1faf5ec4b0317bc": {
          "model_module": "@jupyter-widgets/controls",
          "model_name": "ProgressStyleModel",
          "model_module_version": "1.5.0",
          "state": {
            "_model_module": "@jupyter-widgets/controls",
            "_model_module_version": "1.5.0",
            "_model_name": "ProgressStyleModel",
            "_view_count": null,
            "_view_module": "@jupyter-widgets/base",
            "_view_module_version": "1.2.0",
            "_view_name": "StyleView",
            "bar_color": null,
            "description_width": ""
          }
        },
        "2c952160882948c2b3ada3c169045f58": {
          "model_module": "@jupyter-widgets/base",
          "model_name": "LayoutModel",
          "model_module_version": "1.2.0",
          "state": {
            "_model_module": "@jupyter-widgets/base",
            "_model_module_version": "1.2.0",
            "_model_name": "LayoutModel",
            "_view_count": null,
            "_view_module": "@jupyter-widgets/base",
            "_view_module_version": "1.2.0",
            "_view_name": "LayoutView",
            "align_content": null,
            "align_items": null,
            "align_self": null,
            "border": null,
            "bottom": null,
            "display": null,
            "flex": null,
            "flex_flow": null,
            "grid_area": null,
            "grid_auto_columns": null,
            "grid_auto_flow": null,
            "grid_auto_rows": null,
            "grid_column": null,
            "grid_gap": null,
            "grid_row": null,
            "grid_template_areas": null,
            "grid_template_columns": null,
            "grid_template_rows": null,
            "height": null,
            "justify_content": null,
            "justify_items": null,
            "left": null,
            "margin": null,
            "max_height": null,
            "max_width": null,
            "min_height": null,
            "min_width": null,
            "object_fit": null,
            "object_position": null,
            "order": null,
            "overflow": null,
            "overflow_x": null,
            "overflow_y": null,
            "padding": null,
            "right": null,
            "top": null,
            "visibility": null,
            "width": null
          }
        },
        "a62b7e798c8c4cd58af92eb7b6180b37": {
          "model_module": "@jupyter-widgets/controls",
          "model_name": "DescriptionStyleModel",
          "model_module_version": "1.5.0",
          "state": {
            "_model_module": "@jupyter-widgets/controls",
            "_model_module_version": "1.5.0",
            "_model_name": "DescriptionStyleModel",
            "_view_count": null,
            "_view_module": "@jupyter-widgets/base",
            "_view_module_version": "1.2.0",
            "_view_name": "StyleView",
            "description_width": ""
          }
        },
        "be2e226c4d914422b6593a403bf6e842": {
          "model_module": "@jupyter-widgets/controls",
          "model_name": "HBoxModel",
          "model_module_version": "1.5.0",
          "state": {
            "_dom_classes": [],
            "_model_module": "@jupyter-widgets/controls",
            "_model_module_version": "1.5.0",
            "_model_name": "HBoxModel",
            "_view_count": null,
            "_view_module": "@jupyter-widgets/controls",
            "_view_module_version": "1.5.0",
            "_view_name": "HBoxView",
            "box_style": "",
            "children": [
              "IPY_MODEL_7d75da9e532f4e248bd59bce79b8626d",
              "IPY_MODEL_e003cea49797427c894c2edfc3828711",
              "IPY_MODEL_b166482c17294cf7895f1fc045eee970"
            ],
            "layout": "IPY_MODEL_09c5d91f1a464f25b885b1f460a79cd2"
          }
        },
        "7d75da9e532f4e248bd59bce79b8626d": {
          "model_module": "@jupyter-widgets/controls",
          "model_name": "HTMLModel",
          "model_module_version": "1.5.0",
          "state": {
            "_dom_classes": [],
            "_model_module": "@jupyter-widgets/controls",
            "_model_module_version": "1.5.0",
            "_model_name": "HTMLModel",
            "_view_count": null,
            "_view_module": "@jupyter-widgets/controls",
            "_view_module_version": "1.5.0",
            "_view_name": "HTMLView",
            "description": "",
            "description_tooltip": null,
            "layout": "IPY_MODEL_51706945cf4140d19a5809e96fd6acac",
            "placeholder": "​",
            "style": "IPY_MODEL_2fe91153312a4088a01f994b9f888ee2",
            "value": "Downloading: 100%"
          }
        },
        "e003cea49797427c894c2edfc3828711": {
          "model_module": "@jupyter-widgets/controls",
          "model_name": "FloatProgressModel",
          "model_module_version": "1.5.0",
          "state": {
            "_dom_classes": [],
            "_model_module": "@jupyter-widgets/controls",
            "_model_module_version": "1.5.0",
            "_model_name": "FloatProgressModel",
            "_view_count": null,
            "_view_module": "@jupyter-widgets/controls",
            "_view_module_version": "1.5.0",
            "_view_name": "ProgressView",
            "bar_style": "success",
            "description": "",
            "description_tooltip": null,
            "layout": "IPY_MODEL_0e0c6b80cdb94a8d81c8346eff486cb7",
            "max": 570,
            "min": 0,
            "orientation": "horizontal",
            "style": "IPY_MODEL_6db28dba05d141bb8d98f320bac0815d",
            "value": 570
          }
        },
        "b166482c17294cf7895f1fc045eee970": {
          "model_module": "@jupyter-widgets/controls",
          "model_name": "HTMLModel",
          "model_module_version": "1.5.0",
          "state": {
            "_dom_classes": [],
            "_model_module": "@jupyter-widgets/controls",
            "_model_module_version": "1.5.0",
            "_model_name": "HTMLModel",
            "_view_count": null,
            "_view_module": "@jupyter-widgets/controls",
            "_view_module_version": "1.5.0",
            "_view_name": "HTMLView",
            "description": "",
            "description_tooltip": null,
            "layout": "IPY_MODEL_fe625d60ac0840c3a0caefc318aa8a93",
            "placeholder": "​",
            "style": "IPY_MODEL_137a1dee976a4323b88a10d09761f88c",
            "value": " 570/570 [00:00&lt;00:00, 12.1kB/s]"
          }
        },
        "09c5d91f1a464f25b885b1f460a79cd2": {
          "model_module": "@jupyter-widgets/base",
          "model_name": "LayoutModel",
          "model_module_version": "1.2.0",
          "state": {
            "_model_module": "@jupyter-widgets/base",
            "_model_module_version": "1.2.0",
            "_model_name": "LayoutModel",
            "_view_count": null,
            "_view_module": "@jupyter-widgets/base",
            "_view_module_version": "1.2.0",
            "_view_name": "LayoutView",
            "align_content": null,
            "align_items": null,
            "align_self": null,
            "border": null,
            "bottom": null,
            "display": null,
            "flex": null,
            "flex_flow": null,
            "grid_area": null,
            "grid_auto_columns": null,
            "grid_auto_flow": null,
            "grid_auto_rows": null,
            "grid_column": null,
            "grid_gap": null,
            "grid_row": null,
            "grid_template_areas": null,
            "grid_template_columns": null,
            "grid_template_rows": null,
            "height": null,
            "justify_content": null,
            "justify_items": null,
            "left": null,
            "margin": null,
            "max_height": null,
            "max_width": null,
            "min_height": null,
            "min_width": null,
            "object_fit": null,
            "object_position": null,
            "order": null,
            "overflow": null,
            "overflow_x": null,
            "overflow_y": null,
            "padding": null,
            "right": null,
            "top": null,
            "visibility": null,
            "width": null
          }
        },
        "51706945cf4140d19a5809e96fd6acac": {
          "model_module": "@jupyter-widgets/base",
          "model_name": "LayoutModel",
          "model_module_version": "1.2.0",
          "state": {
            "_model_module": "@jupyter-widgets/base",
            "_model_module_version": "1.2.0",
            "_model_name": "LayoutModel",
            "_view_count": null,
            "_view_module": "@jupyter-widgets/base",
            "_view_module_version": "1.2.0",
            "_view_name": "LayoutView",
            "align_content": null,
            "align_items": null,
            "align_self": null,
            "border": null,
            "bottom": null,
            "display": null,
            "flex": null,
            "flex_flow": null,
            "grid_area": null,
            "grid_auto_columns": null,
            "grid_auto_flow": null,
            "grid_auto_rows": null,
            "grid_column": null,
            "grid_gap": null,
            "grid_row": null,
            "grid_template_areas": null,
            "grid_template_columns": null,
            "grid_template_rows": null,
            "height": null,
            "justify_content": null,
            "justify_items": null,
            "left": null,
            "margin": null,
            "max_height": null,
            "max_width": null,
            "min_height": null,
            "min_width": null,
            "object_fit": null,
            "object_position": null,
            "order": null,
            "overflow": null,
            "overflow_x": null,
            "overflow_y": null,
            "padding": null,
            "right": null,
            "top": null,
            "visibility": null,
            "width": null
          }
        },
        "2fe91153312a4088a01f994b9f888ee2": {
          "model_module": "@jupyter-widgets/controls",
          "model_name": "DescriptionStyleModel",
          "model_module_version": "1.5.0",
          "state": {
            "_model_module": "@jupyter-widgets/controls",
            "_model_module_version": "1.5.0",
            "_model_name": "DescriptionStyleModel",
            "_view_count": null,
            "_view_module": "@jupyter-widgets/base",
            "_view_module_version": "1.2.0",
            "_view_name": "StyleView",
            "description_width": ""
          }
        },
        "0e0c6b80cdb94a8d81c8346eff486cb7": {
          "model_module": "@jupyter-widgets/base",
          "model_name": "LayoutModel",
          "model_module_version": "1.2.0",
          "state": {
            "_model_module": "@jupyter-widgets/base",
            "_model_module_version": "1.2.0",
            "_model_name": "LayoutModel",
            "_view_count": null,
            "_view_module": "@jupyter-widgets/base",
            "_view_module_version": "1.2.0",
            "_view_name": "LayoutView",
            "align_content": null,
            "align_items": null,
            "align_self": null,
            "border": null,
            "bottom": null,
            "display": null,
            "flex": null,
            "flex_flow": null,
            "grid_area": null,
            "grid_auto_columns": null,
            "grid_auto_flow": null,
            "grid_auto_rows": null,
            "grid_column": null,
            "grid_gap": null,
            "grid_row": null,
            "grid_template_areas": null,
            "grid_template_columns": null,
            "grid_template_rows": null,
            "height": null,
            "justify_content": null,
            "justify_items": null,
            "left": null,
            "margin": null,
            "max_height": null,
            "max_width": null,
            "min_height": null,
            "min_width": null,
            "object_fit": null,
            "object_position": null,
            "order": null,
            "overflow": null,
            "overflow_x": null,
            "overflow_y": null,
            "padding": null,
            "right": null,
            "top": null,
            "visibility": null,
            "width": null
          }
        },
        "6db28dba05d141bb8d98f320bac0815d": {
          "model_module": "@jupyter-widgets/controls",
          "model_name": "ProgressStyleModel",
          "model_module_version": "1.5.0",
          "state": {
            "_model_module": "@jupyter-widgets/controls",
            "_model_module_version": "1.5.0",
            "_model_name": "ProgressStyleModel",
            "_view_count": null,
            "_view_module": "@jupyter-widgets/base",
            "_view_module_version": "1.2.0",
            "_view_name": "StyleView",
            "bar_color": null,
            "description_width": ""
          }
        },
        "fe625d60ac0840c3a0caefc318aa8a93": {
          "model_module": "@jupyter-widgets/base",
          "model_name": "LayoutModel",
          "model_module_version": "1.2.0",
          "state": {
            "_model_module": "@jupyter-widgets/base",
            "_model_module_version": "1.2.0",
            "_model_name": "LayoutModel",
            "_view_count": null,
            "_view_module": "@jupyter-widgets/base",
            "_view_module_version": "1.2.0",
            "_view_name": "LayoutView",
            "align_content": null,
            "align_items": null,
            "align_self": null,
            "border": null,
            "bottom": null,
            "display": null,
            "flex": null,
            "flex_flow": null,
            "grid_area": null,
            "grid_auto_columns": null,
            "grid_auto_flow": null,
            "grid_auto_rows": null,
            "grid_column": null,
            "grid_gap": null,
            "grid_row": null,
            "grid_template_areas": null,
            "grid_template_columns": null,
            "grid_template_rows": null,
            "height": null,
            "justify_content": null,
            "justify_items": null,
            "left": null,
            "margin": null,
            "max_height": null,
            "max_width": null,
            "min_height": null,
            "min_width": null,
            "object_fit": null,
            "object_position": null,
            "order": null,
            "overflow": null,
            "overflow_x": null,
            "overflow_y": null,
            "padding": null,
            "right": null,
            "top": null,
            "visibility": null,
            "width": null
          }
        },
        "137a1dee976a4323b88a10d09761f88c": {
          "model_module": "@jupyter-widgets/controls",
          "model_name": "DescriptionStyleModel",
          "model_module_version": "1.5.0",
          "state": {
            "_model_module": "@jupyter-widgets/controls",
            "_model_module_version": "1.5.0",
            "_model_name": "DescriptionStyleModel",
            "_view_count": null,
            "_view_module": "@jupyter-widgets/base",
            "_view_module_version": "1.2.0",
            "_view_name": "StyleView",
            "description_width": ""
          }
        },
        "6420ed65b54c476e93bfe058cce62020": {
          "model_module": "@jupyter-widgets/controls",
          "model_name": "HBoxModel",
          "model_module_version": "1.5.0",
          "state": {
            "_dom_classes": [],
            "_model_module": "@jupyter-widgets/controls",
            "_model_module_version": "1.5.0",
            "_model_name": "HBoxModel",
            "_view_count": null,
            "_view_module": "@jupyter-widgets/controls",
            "_view_module_version": "1.5.0",
            "_view_name": "HBoxView",
            "box_style": "",
            "children": [
              "IPY_MODEL_ecd09a43d39a45bbb1411301f9a496d3",
              "IPY_MODEL_146b4c1924aa4a4c946e3858b2bba56a",
              "IPY_MODEL_cb337809b2a64b82b4c6f2332b99edd7"
            ],
            "layout": "IPY_MODEL_f8bec7cf08d443afbc803d0362b9d123"
          }
        },
        "ecd09a43d39a45bbb1411301f9a496d3": {
          "model_module": "@jupyter-widgets/controls",
          "model_name": "HTMLModel",
          "model_module_version": "1.5.0",
          "state": {
            "_dom_classes": [],
            "_model_module": "@jupyter-widgets/controls",
            "_model_module_version": "1.5.0",
            "_model_name": "HTMLModel",
            "_view_count": null,
            "_view_module": "@jupyter-widgets/controls",
            "_view_module_version": "1.5.0",
            "_view_name": "HTMLView",
            "description": "",
            "description_tooltip": null,
            "layout": "IPY_MODEL_dfe49663c3e34c7e9bde199a88953ad9",
            "placeholder": "​",
            "style": "IPY_MODEL_2a00ce64a1db4f1191b7cbf22e9d6128",
            "value": "Downloading: 100%"
          }
        },
        "146b4c1924aa4a4c946e3858b2bba56a": {
          "model_module": "@jupyter-widgets/controls",
          "model_name": "FloatProgressModel",
          "model_module_version": "1.5.0",
          "state": {
            "_dom_classes": [],
            "_model_module": "@jupyter-widgets/controls",
            "_model_module_version": "1.5.0",
            "_model_name": "FloatProgressModel",
            "_view_count": null,
            "_view_module": "@jupyter-widgets/controls",
            "_view_module_version": "1.5.0",
            "_view_name": "ProgressView",
            "bar_style": "success",
            "description": "",
            "description_tooltip": null,
            "layout": "IPY_MODEL_cb60212fc6d8443383a9871f09d05e99",
            "max": 536063208,
            "min": 0,
            "orientation": "horizontal",
            "style": "IPY_MODEL_2b7f3a59b11d49f2b7b9df803dab55cf",
            "value": 536063208
          }
        },
        "cb337809b2a64b82b4c6f2332b99edd7": {
          "model_module": "@jupyter-widgets/controls",
          "model_name": "HTMLModel",
          "model_module_version": "1.5.0",
          "state": {
            "_dom_classes": [],
            "_model_module": "@jupyter-widgets/controls",
            "_model_module_version": "1.5.0",
            "_model_name": "HTMLModel",
            "_view_count": null,
            "_view_module": "@jupyter-widgets/controls",
            "_view_module_version": "1.5.0",
            "_view_name": "HTMLView",
            "description": "",
            "description_tooltip": null,
            "layout": "IPY_MODEL_f354bb36ce714109a552a819e4b5de12",
            "placeholder": "​",
            "style": "IPY_MODEL_f8d4182e8c384658913aea4d2c2317a1",
            "value": " 536M/536M [00:25&lt;00:00, 19.2MB/s]"
          }
        },
        "f8bec7cf08d443afbc803d0362b9d123": {
          "model_module": "@jupyter-widgets/base",
          "model_name": "LayoutModel",
          "model_module_version": "1.2.0",
          "state": {
            "_model_module": "@jupyter-widgets/base",
            "_model_module_version": "1.2.0",
            "_model_name": "LayoutModel",
            "_view_count": null,
            "_view_module": "@jupyter-widgets/base",
            "_view_module_version": "1.2.0",
            "_view_name": "LayoutView",
            "align_content": null,
            "align_items": null,
            "align_self": null,
            "border": null,
            "bottom": null,
            "display": null,
            "flex": null,
            "flex_flow": null,
            "grid_area": null,
            "grid_auto_columns": null,
            "grid_auto_flow": null,
            "grid_auto_rows": null,
            "grid_column": null,
            "grid_gap": null,
            "grid_row": null,
            "grid_template_areas": null,
            "grid_template_columns": null,
            "grid_template_rows": null,
            "height": null,
            "justify_content": null,
            "justify_items": null,
            "left": null,
            "margin": null,
            "max_height": null,
            "max_width": null,
            "min_height": null,
            "min_width": null,
            "object_fit": null,
            "object_position": null,
            "order": null,
            "overflow": null,
            "overflow_x": null,
            "overflow_y": null,
            "padding": null,
            "right": null,
            "top": null,
            "visibility": null,
            "width": null
          }
        },
        "dfe49663c3e34c7e9bde199a88953ad9": {
          "model_module": "@jupyter-widgets/base",
          "model_name": "LayoutModel",
          "model_module_version": "1.2.0",
          "state": {
            "_model_module": "@jupyter-widgets/base",
            "_model_module_version": "1.2.0",
            "_model_name": "LayoutModel",
            "_view_count": null,
            "_view_module": "@jupyter-widgets/base",
            "_view_module_version": "1.2.0",
            "_view_name": "LayoutView",
            "align_content": null,
            "align_items": null,
            "align_self": null,
            "border": null,
            "bottom": null,
            "display": null,
            "flex": null,
            "flex_flow": null,
            "grid_area": null,
            "grid_auto_columns": null,
            "grid_auto_flow": null,
            "grid_auto_rows": null,
            "grid_column": null,
            "grid_gap": null,
            "grid_row": null,
            "grid_template_areas": null,
            "grid_template_columns": null,
            "grid_template_rows": null,
            "height": null,
            "justify_content": null,
            "justify_items": null,
            "left": null,
            "margin": null,
            "max_height": null,
            "max_width": null,
            "min_height": null,
            "min_width": null,
            "object_fit": null,
            "object_position": null,
            "order": null,
            "overflow": null,
            "overflow_x": null,
            "overflow_y": null,
            "padding": null,
            "right": null,
            "top": null,
            "visibility": null,
            "width": null
          }
        },
        "2a00ce64a1db4f1191b7cbf22e9d6128": {
          "model_module": "@jupyter-widgets/controls",
          "model_name": "DescriptionStyleModel",
          "model_module_version": "1.5.0",
          "state": {
            "_model_module": "@jupyter-widgets/controls",
            "_model_module_version": "1.5.0",
            "_model_name": "DescriptionStyleModel",
            "_view_count": null,
            "_view_module": "@jupyter-widgets/base",
            "_view_module_version": "1.2.0",
            "_view_name": "StyleView",
            "description_width": ""
          }
        },
        "cb60212fc6d8443383a9871f09d05e99": {
          "model_module": "@jupyter-widgets/base",
          "model_name": "LayoutModel",
          "model_module_version": "1.2.0",
          "state": {
            "_model_module": "@jupyter-widgets/base",
            "_model_module_version": "1.2.0",
            "_model_name": "LayoutModel",
            "_view_count": null,
            "_view_module": "@jupyter-widgets/base",
            "_view_module_version": "1.2.0",
            "_view_name": "LayoutView",
            "align_content": null,
            "align_items": null,
            "align_self": null,
            "border": null,
            "bottom": null,
            "display": null,
            "flex": null,
            "flex_flow": null,
            "grid_area": null,
            "grid_auto_columns": null,
            "grid_auto_flow": null,
            "grid_auto_rows": null,
            "grid_column": null,
            "grid_gap": null,
            "grid_row": null,
            "grid_template_areas": null,
            "grid_template_columns": null,
            "grid_template_rows": null,
            "height": null,
            "justify_content": null,
            "justify_items": null,
            "left": null,
            "margin": null,
            "max_height": null,
            "max_width": null,
            "min_height": null,
            "min_width": null,
            "object_fit": null,
            "object_position": null,
            "order": null,
            "overflow": null,
            "overflow_x": null,
            "overflow_y": null,
            "padding": null,
            "right": null,
            "top": null,
            "visibility": null,
            "width": null
          }
        },
        "2b7f3a59b11d49f2b7b9df803dab55cf": {
          "model_module": "@jupyter-widgets/controls",
          "model_name": "ProgressStyleModel",
          "model_module_version": "1.5.0",
          "state": {
            "_model_module": "@jupyter-widgets/controls",
            "_model_module_version": "1.5.0",
            "_model_name": "ProgressStyleModel",
            "_view_count": null,
            "_view_module": "@jupyter-widgets/base",
            "_view_module_version": "1.2.0",
            "_view_name": "StyleView",
            "bar_color": null,
            "description_width": ""
          }
        },
        "f354bb36ce714109a552a819e4b5de12": {
          "model_module": "@jupyter-widgets/base",
          "model_name": "LayoutModel",
          "model_module_version": "1.2.0",
          "state": {
            "_model_module": "@jupyter-widgets/base",
            "_model_module_version": "1.2.0",
            "_model_name": "LayoutModel",
            "_view_count": null,
            "_view_module": "@jupyter-widgets/base",
            "_view_module_version": "1.2.0",
            "_view_name": "LayoutView",
            "align_content": null,
            "align_items": null,
            "align_self": null,
            "border": null,
            "bottom": null,
            "display": null,
            "flex": null,
            "flex_flow": null,
            "grid_area": null,
            "grid_auto_columns": null,
            "grid_auto_flow": null,
            "grid_auto_rows": null,
            "grid_column": null,
            "grid_gap": null,
            "grid_row": null,
            "grid_template_areas": null,
            "grid_template_columns": null,
            "grid_template_rows": null,
            "height": null,
            "justify_content": null,
            "justify_items": null,
            "left": null,
            "margin": null,
            "max_height": null,
            "max_width": null,
            "min_height": null,
            "min_width": null,
            "object_fit": null,
            "object_position": null,
            "order": null,
            "overflow": null,
            "overflow_x": null,
            "overflow_y": null,
            "padding": null,
            "right": null,
            "top": null,
            "visibility": null,
            "width": null
          }
        },
        "f8d4182e8c384658913aea4d2c2317a1": {
          "model_module": "@jupyter-widgets/controls",
          "model_name": "DescriptionStyleModel",
          "model_module_version": "1.5.0",
          "state": {
            "_model_module": "@jupyter-widgets/controls",
            "_model_module_version": "1.5.0",
            "_model_name": "DescriptionStyleModel",
            "_view_count": null,
            "_view_module": "@jupyter-widgets/base",
            "_view_module_version": "1.2.0",
            "_view_name": "StyleView",
            "description_width": ""
          }
        }
      }
    }
  },
  "nbformat": 4,
  "nbformat_minor": 5
}