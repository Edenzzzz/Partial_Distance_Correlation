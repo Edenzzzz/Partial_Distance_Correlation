{
 "cells": [
  {
   "cell_type": "markdown",
   "id": "146d9a65",
   "metadata": {},
   "source": [
    "# Install required packages"
   ]
  },
  {
   "cell_type": "code",
   "execution_count": 49,
   "id": "469dd5e4",
   "metadata": {
    "scrolled": true
   },
   "outputs": [
    {
     "name": "stdout",
     "output_type": "stream",
     "text": [
      "Requirement already satisfied: torch in /Users/joongho/opt/anaconda3/lib/python3.9/site-packages (1.12.1)\n",
      "Requirement already satisfied: torchvision in /Users/joongho/opt/anaconda3/lib/python3.9/site-packages (0.13.1)\n",
      "Requirement already satisfied: timm in /Users/joongho/opt/anaconda3/lib/python3.9/site-packages (0.6.11)\n",
      "Requirement already satisfied: typing_extensions in /Users/joongho/opt/anaconda3/lib/python3.9/site-packages (from torch) (4.3.0)\n",
      "Requirement already satisfied: numpy in /Users/joongho/opt/anaconda3/lib/python3.9/site-packages (from torchvision) (1.21.5)\n",
      "Requirement already satisfied: requests in /Users/joongho/opt/anaconda3/lib/python3.9/site-packages (from torchvision) (2.28.1)\n",
      "Requirement already satisfied: pillow!=8.3.*,>=5.3.0 in /Users/joongho/opt/anaconda3/lib/python3.9/site-packages (from torchvision) (9.2.0)\n",
      "Requirement already satisfied: huggingface-hub in /Users/joongho/opt/anaconda3/lib/python3.9/site-packages (from timm) (0.10.1)\n",
      "Requirement already satisfied: pyyaml in /Users/joongho/opt/anaconda3/lib/python3.9/site-packages (from timm) (6.0)\n",
      "Requirement already satisfied: tqdm in /Users/joongho/opt/anaconda3/lib/python3.9/site-packages (from huggingface-hub->timm) (4.64.1)\n",
      "Requirement already satisfied: packaging>=20.9 in /Users/joongho/opt/anaconda3/lib/python3.9/site-packages (from huggingface-hub->timm) (21.3)\n",
      "Requirement already satisfied: filelock in /Users/joongho/opt/anaconda3/lib/python3.9/site-packages (from huggingface-hub->timm) (3.6.0)\n",
      "Requirement already satisfied: certifi>=2017.4.17 in /Users/joongho/opt/anaconda3/lib/python3.9/site-packages (from requests->torchvision) (2022.9.24)\n",
      "Requirement already satisfied: idna<4,>=2.5 in /Users/joongho/opt/anaconda3/lib/python3.9/site-packages (from requests->torchvision) (3.4)\n",
      "Requirement already satisfied: urllib3<1.27,>=1.21.1 in /Users/joongho/opt/anaconda3/lib/python3.9/site-packages (from requests->torchvision) (1.26.12)\n",
      "Requirement already satisfied: charset-normalizer<3,>=2 in /Users/joongho/opt/anaconda3/lib/python3.9/site-packages (from requests->torchvision) (2.0.4)\n",
      "Requirement already satisfied: pyparsing!=3.0.5,>=2.0.2 in /Users/joongho/opt/anaconda3/lib/python3.9/site-packages (from packaging>=20.9->huggingface-hub->timm) (3.0.9)\n",
      "Requirement already satisfied: transformers in /Users/joongho/opt/anaconda3/lib/python3.9/site-packages (4.23.1)\n",
      "Requirement already satisfied: huggingface-hub<1.0,>=0.10.0 in /Users/joongho/opt/anaconda3/lib/python3.9/site-packages (from transformers) (0.10.1)\n",
      "Requirement already satisfied: packaging>=20.0 in /Users/joongho/opt/anaconda3/lib/python3.9/site-packages (from transformers) (21.3)\n",
      "Requirement already satisfied: numpy>=1.17 in /Users/joongho/opt/anaconda3/lib/python3.9/site-packages (from transformers) (1.21.5)\n",
      "Requirement already satisfied: tqdm>=4.27 in /Users/joongho/opt/anaconda3/lib/python3.9/site-packages (from transformers) (4.64.1)\n",
      "Requirement already satisfied: tokenizers!=0.11.3,<0.14,>=0.11.1 in /Users/joongho/opt/anaconda3/lib/python3.9/site-packages (from transformers) (0.13.1)\n",
      "Requirement already satisfied: pyyaml>=5.1 in /Users/joongho/opt/anaconda3/lib/python3.9/site-packages (from transformers) (6.0)\n",
      "Requirement already satisfied: requests in /Users/joongho/opt/anaconda3/lib/python3.9/site-packages (from transformers) (2.28.1)\n",
      "Requirement already satisfied: regex!=2019.12.17 in /Users/joongho/opt/anaconda3/lib/python3.9/site-packages (from transformers) (2022.7.9)\n",
      "Requirement already satisfied: filelock in /Users/joongho/opt/anaconda3/lib/python3.9/site-packages (from transformers) (3.6.0)\n",
      "Requirement already satisfied: typing-extensions>=3.7.4.3 in /Users/joongho/opt/anaconda3/lib/python3.9/site-packages (from huggingface-hub<1.0,>=0.10.0->transformers) (4.3.0)\n",
      "Requirement already satisfied: pyparsing!=3.0.5,>=2.0.2 in /Users/joongho/opt/anaconda3/lib/python3.9/site-packages (from packaging>=20.0->transformers) (3.0.9)\n",
      "Requirement already satisfied: charset-normalizer<3,>=2 in /Users/joongho/opt/anaconda3/lib/python3.9/site-packages (from requests->transformers) (2.0.4)\n",
      "Requirement already satisfied: idna<4,>=2.5 in /Users/joongho/opt/anaconda3/lib/python3.9/site-packages (from requests->transformers) (3.4)\n",
      "Requirement already satisfied: certifi>=2017.4.17 in /Users/joongho/opt/anaconda3/lib/python3.9/site-packages (from requests->transformers) (2022.9.24)\n",
      "Requirement already satisfied: urllib3<1.27,>=1.21.1 in /Users/joongho/opt/anaconda3/lib/python3.9/site-packages (from requests->transformers) (1.26.12)\n",
      "Requirement already satisfied: torchshow in /Users/joongho/opt/anaconda3/lib/python3.9/site-packages (0.4.2)\n",
      "Requirement already satisfied: numpy in /Users/joongho/opt/anaconda3/lib/python3.9/site-packages (from torchshow) (1.21.5)\n",
      "Requirement already satisfied: matplotlib in /Users/joongho/opt/anaconda3/lib/python3.9/site-packages (from torchshow) (3.5.2)\n",
      "Requirement already satisfied: python-dateutil>=2.7 in /Users/joongho/opt/anaconda3/lib/python3.9/site-packages (from matplotlib->torchshow) (2.8.2)\n",
      "Requirement already satisfied: kiwisolver>=1.0.1 in /Users/joongho/opt/anaconda3/lib/python3.9/site-packages (from matplotlib->torchshow) (1.4.2)\n",
      "Requirement already satisfied: packaging>=20.0 in /Users/joongho/opt/anaconda3/lib/python3.9/site-packages (from matplotlib->torchshow) (21.3)\n",
      "Requirement already satisfied: cycler>=0.10 in /Users/joongho/opt/anaconda3/lib/python3.9/site-packages (from matplotlib->torchshow) (0.11.0)\n",
      "Requirement already satisfied: pillow>=6.2.0 in /Users/joongho/opt/anaconda3/lib/python3.9/site-packages (from matplotlib->torchshow) (9.2.0)\n",
      "Requirement already satisfied: pyparsing>=2.2.1 in /Users/joongho/opt/anaconda3/lib/python3.9/site-packages (from matplotlib->torchshow) (3.0.9)\n",
      "Requirement already satisfied: fonttools>=4.22.0 in /Users/joongho/opt/anaconda3/lib/python3.9/site-packages (from matplotlib->torchshow) (4.25.0)\n",
      "Requirement already satisfied: six>=1.5 in /Users/joongho/opt/anaconda3/lib/python3.9/site-packages (from python-dateutil>=2.7->matplotlib->torchshow) (1.16.0)\n"
     ]
    }
   ],
   "source": [
    "!pip install torch torchvision timm\n",
    "!pip install transformers\n",
    "!pip install torchshow"
   ]
  },
  {
   "cell_type": "markdown",
   "id": "3c23b6e4",
   "metadata": {},
   "source": [
    "## Import all realated packages"
   ]
  },
  {
   "cell_type": "code",
   "execution_count": 50,
   "id": "91e6649e",
   "metadata": {},
   "outputs": [],
   "source": [
    "import os\n",
    "import sys\n",
    "import time\n",
    "import math\n",
    "import numpy as np\n",
    "\n",
    "import matplotlib\n",
    "import matplotlib.pyplot as plt\n",
    "from matplotlib.pyplot import figure\n",
    "from matplotlib.patches import Ellipse, Rectangle\n",
    "import matplotlib.transforms as transforms\n",
    "\n",
    "from scipy.stats import gaussian_kde"
   ]
  },
  {
   "cell_type": "code",
   "execution_count": 51,
   "id": "fbce5e02",
   "metadata": {},
   "outputs": [],
   "source": [
    "import torch\n",
    "import torch.nn as nn\n",
    "import torch.nn.init as init\n",
    "import torch.nn.functional as F\n",
    "import torchvision\n",
    "import torchvision.transforms as tv_transforms\n",
    "import timm"
   ]
  },
  {
   "cell_type": "code",
   "execution_count": 52,
   "id": "5616b6b4",
   "metadata": {},
   "outputs": [],
   "source": [
    "plt.style.use('ggplot')\n",
    "matplotlib.rcParams['text.usetex'] = True\n",
    "matplotlib.rcParams['text.latex.preamble'] = r'\\usepackage{{amsmath}}'"
   ]
  },
  {
   "cell_type": "markdown",
   "id": "6c9aa4c2",
   "metadata": {},
   "source": [
    "## Define Distance Correlation"
   ]
  },
  {
   "cell_type": "code",
   "execution_count": 53,
   "id": "1d360b51",
   "metadata": {},
   "outputs": [],
   "source": [
    "class Loss_DC(nn.Module):\n",
    "    def __init__(self):\n",
    "        super(Loss_DC, self).__init__()\n",
    "\n",
    "\n",
    "    def Distance_Correlation(self, latent, control):\n",
    "        matrix_a = torch.sqrt(torch.sum(torch.square(latent.unsqueeze(0) - latent.unsqueeze(1)), dim = -1) + 1e-12)\n",
    "        matrix_b = torch.sqrt(torch.sum(torch.square(control.unsqueeze(0) - control.unsqueeze(1)), dim = -1) + 1e-12)\n",
    "\n",
    "        matrix_A = matrix_a - torch.mean(matrix_a, dim = 0, keepdims= True) - torch.mean(matrix_a, dim = 1, keepdims= True) + torch.mean(matrix_a)\n",
    "        matrix_B = matrix_b - torch.mean(matrix_b, dim = 0, keepdims= True) - torch.mean(matrix_b, dim = 1, keepdims= True) + torch.mean(matrix_b)\n",
    "\n",
    "        Gamma_XY = torch.sum(matrix_A * matrix_B)/ (matrix_A.shape[0] * matrix_A.shape[1])\n",
    "        Gamma_XX = torch.sum(matrix_A * matrix_A)/ (matrix_A.shape[0] * matrix_A.shape[1])\n",
    "        Gamma_YY = torch.sum(matrix_B * matrix_B)/ (matrix_A.shape[0] * matrix_A.shape[1])\n",
    "\n",
    "        correlation_r = Gamma_XY/torch.sqrt(Gamma_XX * Gamma_YY + 1e-9)\n",
    "        return correlation_r\n",
    "\n",
    "\n",
    "    def forward(self, latent, control):\n",
    "        dc_loss = self.Distance_Correlation(latent, control)\n",
    "\n",
    "        return dc_loss"
   ]
  },
  {
   "cell_type": "markdown",
   "id": "faf9fcb4",
   "metadata": {},
   "source": [
    "## Pearson Corrletaion vs Distance Correlation\n",
    "This demo shows that Distance Correlation is better compared with Pearson Correlation"
   ]
  },
  {
   "cell_type": "code",
   "execution_count": 54,
   "id": "ec292a5f",
   "metadata": {},
   "outputs": [],
   "source": [
    "def Peasor_Correlation(latent, control):\n",
    "    batch_size = latent.shape[0]\n",
    "\n",
    "    up = (latent - torch.mean(latent, dim = 0, keepdims= True) ) * (control - torch.mean(control, dim = 0, keepdims= True) )\n",
    "    up = torch.sum(up) / batch_size\n",
    "\n",
    "    down = torch.sum((latent - torch.mean(latent, dim = 0, keepdims= True) ) ** 2 ) * torch.sum((control - torch.mean(control, dim = 0, keepdims= True) ) ** 2)\n",
    "    down = down / (batch_size ** 2)\n",
    "\n",
    "    return up/torch.sqrt(down)"
   ]
  },
  {
   "cell_type": "markdown",
   "id": "3d8e3907",
   "metadata": {},
   "source": [
    "Here, we will use a special case to obtain the eigenvalues of these two-dimensional datasets.\n",
    "Then, calculate the standard deviation of x and y from the square root of the variance and multiplaying with the given number of standard deviations."
   ]
  },
  {
   "cell_type": "code",
   "execution_count": 55,
   "id": "c015333b",
   "metadata": {},
   "outputs": [],
   "source": [
    "def confidence_ellipse(x, y, ax, n_std=2.9, facecolor='none', cov=None, **kwargs):\n",
    "    if x.size != y.size:\n",
    "        raise ValueError(\"x and y must be the same size\")\n",
    "\n",
    "    pearson = cov[0, 1]/np.sqrt(cov[0, 0] * cov[1, 1])\n",
    "    ell_radius_x = np.sqrt(1 + pearson)\n",
    "    ell_radius_y = np.sqrt(1 - pearson)\n",
    "    ellipse = Ellipse((0, 0), width=ell_radius_x * 2, height=ell_radius_y * 2,\n",
    "                      facecolor=facecolor, lw=3, **kwargs)\n",
    "\n",
    "    scale_x = np.sqrt(cov[0, 0]) * n_std\n",
    "    mean_x = np.mean(x)\n",
    "\n",
    "    scale_y = np.sqrt(cov[1, 1]) * n_std\n",
    "    mean_y = np.mean(y)\n",
    "\n",
    "    transf = transforms.Affine2D() \\\n",
    "        .rotate_deg(45) \\\n",
    "        .scale(scale_x, scale_y) \\\n",
    "        .translate(mean_x, mean_y)\n",
    "\n",
    "    ellipse.set_transform(transf + ax.transData)\n",
    "    return ax.add_patch(ellipse)"
   ]
  },
  {
   "cell_type": "markdown",
   "id": "f55d4a3b",
   "metadata": {},
   "source": [
    "Now we compare Pearson Correlation and Distance Correlation."
   ]
  },
  {
   "cell_type": "code",
   "execution_count": 56,
   "id": "69315f37",
   "metadata": {},
   "outputs": [
    {
     "name": "stdout",
     "output_type": "stream",
     "text": [
      "Pearson Correration: -0.006045632530003786\n",
      "Distance Correlation: 0.20732548832893372\n"
     ]
    },
    {
     "data": {
      "image/png": "[encoded data removed]",
      "text/plain": [
       "<Figure size 240x360 with 1 Axes>"
      ]
     },
     "metadata": {},
     "output_type": "display_data"
    }
   ],
   "source": [
    "batch_size=10000\n",
    "Distance_Correlation = Loss_DC()\n",
    "x = np.linspace(-3, 3, num=batch_size)\n",
    "y = np.random.randn(batch_size)\n",
    "\n",
    "y = y + x**2\n",
    "\n",
    "x = torch.Tensor(x)\n",
    "x = x.reshape([batch_size,-1])\n",
    "y = torch.Tensor(y)\n",
    "y = y.reshape([batch_size,-1])\n",
    "\n",
    "pc = Peasor_Correlation(x,y)\n",
    "dc = Distance_Correlation(x,y)\n",
    "print(f'Pearson Correration: {pc}')\n",
    "print(f'Distance Correlation: {dc}')\n",
    "\n",
    "outR = torch.cat([x,y], axis=-1).numpy()\n",
    "\n",
    "z = gaussian_kde(outR.transpose())(outR.transpose())\n",
    "figure(figsize=(3, 4.5), dpi=80)\n",
    "new_X = np.linspace(-3, 3, num=batch_size)\n",
    "new_Y_low = new_X**2 - 3\n",
    "new_Y_high = new_X**2 + 3\n",
    "plt.plot(new_X, new_X**2, 'b-', alpha=0.8)\n",
    "ax = plt.gca()\n",
    "ax.fill_between(new_X, new_Y_low, new_Y_high, color='b' , alpha=0.1)\n",
    "plt.scatter(x=x[::20], y = y[::20],c=z[::20],s=10,cmap='hot')\n",
    "ax.axis('equal')\n",
    "ax.set(xlim=(-5, 5), ylim=(-5, 15))\n",
    "# ax.set_title(r'$y=x^2+n,n\\sim \\mathcal{N}(0,1)$'))\n",
    "plt.text(0.05, 0.95, 'Pearson Cor : {:0.3f}\\nDistance Cor: {:0.3f}'.format(pc, dc) , horizontalalignment='left',verticalalignment='center', transform=ax.transAxes, size='x-large')\n",
    "plt.savefig('pearson_distance1.png', dpi=300)\n",
    "plt.show()"
   ]
  },
  {
   "cell_type": "code",
   "execution_count": 57,
   "id": "c23c3f13",
   "metadata": {},
   "outputs": [
    {
     "name": "stdout",
     "output_type": "stream",
     "text": [
      "Pearson Correration: 0.6654168367385864\n",
      "Distance Correlation: 0.37834349274635315\n"
     ]
    },
    {
     "data": {
      "image/png": "[encoded data removed]",
      "text/plain": [
       "<Figure size 240x360 with 1 Axes>"
      ]
     },
     "metadata": {},
     "output_type": "display_data"
    }
   ],
   "source": [
    "xy = np.random.multivariate_normal(mean=np.asarray([0,5]), cov = np.asarray([[1,1.5],[1.5,5]]), size=batch_size)\n",
    "x = xy[:,0]\n",
    "y = xy[:,1]\n",
    "\n",
    "x = torch.Tensor(x)\n",
    "x = x.reshape([batch_size,-1])\n",
    "y = torch.Tensor(y)\n",
    "y = y.reshape([batch_size,-1])\n",
    "\n",
    "pc = Peasor_Correlation(x,y)\n",
    "dc = Distance_Correlation(x,y)\n",
    "print(f'Pearson Correration: {pc}')\n",
    "print(f'Distance Correlation: {dc}')\n",
    "\n",
    "outR = torch.cat([x,y], axis=-1).numpy()\n",
    "z = gaussian_kde(outR.transpose())(outR.transpose())\n",
    "\n",
    "figure(figsize=(3, 4.5), dpi=80)\n",
    "plt.scatter(x=x[::10], y = y[::10],c=z[::10],s=10,cmap='hot')\n",
    "ax = plt.gca()\n",
    "confidence_ellipse(outR[:,0], outR[:,1],ax, cov=np.asarray([[1,1.5],[1.5,5]]), edgecolor=None, facecolor='blue', alpha=0.1)\n",
    "ax.axis('equal')\n",
    "ax.set(xlim=(-5, 5), ylim=(-5, 15))\n",
    "plt.text(0.05, 0.95, 'Pearson Cor : {:0.3f}\\nDistance Cor: {:0.3f}'.format(pc, dc) , horizontalalignment='left',verticalalignment='center', transform=ax.transAxes, size='x-large')\n",
    "plt.savefig('pearson_distance2.png', dpi=300)\n",
    "plt.show()"
   ]
  },
  {
   "cell_type": "code",
   "execution_count": 58,
   "id": "5154cc53",
   "metadata": {},
   "outputs": [
    {
     "name": "stdout",
     "output_type": "stream",
     "text": [
      "Pearson Correration: -0.019554326310753822\n",
      "Distance Correlation: 0.0004879241168964654\n"
     ]
    },
    {
     "data": {
      "image/png": "[encoded data removed]",
      "text/plain": [
       "<Figure size 240x360 with 1 Axes>"
      ]
     },
     "metadata": {},
     "output_type": "display_data"
    }
   ],
   "source": [
    "xy = np.random.multivariate_normal(mean=np.asarray([0,5]), cov = np.asarray([[1,0],[0,5]]), size=batch_size)\n",
    "x = xy[:,0]\n",
    "y = xy[:,1]\n",
    "\n",
    "x = torch.Tensor(x)\n",
    "x = x.reshape([batch_size,-1])\n",
    "y = torch.Tensor(y)\n",
    "y = y.reshape([batch_size,-1])\n",
    "\n",
    "pc = Peasor_Correlation(x,y)\n",
    "dc = Distance_Correlation(x,y)\n",
    "print(f'Pearson Correration: {pc}')\n",
    "print(f'Distance Correlation: {dc}')\n",
    "\n",
    "outR = torch.cat([x,y], axis=-1).numpy()\n",
    "z = gaussian_kde(outR.transpose())(outR.transpose())\n",
    "\n",
    "figure(figsize=(3, 4.5), dpi=80)\n",
    "plt.scatter(x=x[::10], y = y[::10],c=z[::10],s=10,cmap='hot')\n",
    "ax = plt.gca()\n",
    "confidence_ellipse(outR[:,0], outR[:,1],ax, cov=np.asarray([[1,0],[0,5]]), edgecolor=None, facecolor='blue', alpha=0.1)\n",
    "ax.axis('equal')\n",
    "ax.set(xlim=(-5, 5), ylim=(-5, 15))\n",
    "plt.text(0.05, 0.95, 'Pearson Cor : {:0.3f}\\nDistance Cor: {:0.3f}'.format(pc.abs(), dc) , horizontalalignment='left',verticalalignment='center', transform=ax.transAxes, size='x-large')\n",
    "plt.savefig('pearson_distance3.png', dpi=300)\n",
    "plt.show()"
   ]
  },
  {
   "cell_type": "markdown",
   "id": "d5a56ff5",
   "metadata": {},
   "source": [
    "## Define Models\n",
    "We only use the features to evaluate the similarity between networks"
   ]
  },
  {
   "cell_type": "code",
   "execution_count": 59,
   "id": "c8f8c054",
   "metadata": {},
   "outputs": [
    {
     "name": "stdout",
     "output_type": "stream",
     "text": [
      "Files already downloaded and verified\n",
      "Files already downloaded and verified\n"
     ]
    }
   ],
   "source": [
    "device = 'cuda' if torch.cuda.is_available() else 'cpu'\n",
    "\n",
    "transform_train = tv_transforms.Compose([\n",
    "    tv_transforms.RandomCrop(32, padding=4),\n",
    "    tv_transforms.RandomHorizontalFlip(),\n",
    "    tv_transforms.ToTensor(),\n",
    "    tv_transforms.Normalize((0.4914, 0.4822, 0.4465), (0.2023, 0.1994, 0.2010)),\n",
    "])\n",
    "\n",
    "transform_test = tv_transforms.Compose([\n",
    "    tv_transforms.ToTensor(),\n",
    "    tv_transforms.Normalize((0.4914, 0.4822, 0.4465), (0.2023, 0.1994, 0.2010)),\n",
    "])\n",
    "\n",
    "trainset = torchvision.datasets.CIFAR10(\n",
    "    root='./data', train=True, download=True, transform=transform_train)\n",
    "trainloader = torch.utils.data.DataLoader(\n",
    "    trainset, batch_size=128, shuffle=True, num_workers=2)\n",
    "\n",
    "testset = torchvision.datasets.CIFAR10(\n",
    "    root='./data', train=False, download=True, transform=transform_test)\n",
    "testloader = torch.utils.data.DataLoader(\n",
    "    testset, batch_size=100, shuffle=False, num_workers=2)\n",
    "\n",
    "classes = ('plane', 'car', 'bird', 'cat', 'deer',\n",
    "           'dog', 'frog', 'horse', 'ship', 'truck')"
   ]
  },
  {
   "cell_type": "code",
   "execution_count": 60,
   "id": "a88a6a19",
   "metadata": {},
   "outputs": [
    {
     "name": "stderr",
     "output_type": "stream",
     "text": [
      "INFO:timm.models.helpers:Loading pretrained weights from url (https://download.pytorch.org/models/resnet18-5c106cde.pth)\n",
      "INFO:timm.models.helpers:Loading pretrained weights from url (https://github.com/rwightman/pytorch-image-models/releases/download/v0.1-rsb-weights/resnet50_a1_0-14fe96d1.pth)\n"
     ]
    },
    {
     "data": {
      "text/plain": [
       "ResNet(\n",
       "  (conv1): Conv2d(3, 64, kernel_size=(7, 7), stride=(2, 2), padding=(3, 3), bias=False)\n",
       "  (bn1): BatchNorm2d(64, eps=1e-05, momentum=0.1, affine=True, track_running_stats=True)\n",
       "  (act1): ReLU(inplace=True)\n",
       "  (maxpool): MaxPool2d(kernel_size=3, stride=2, padding=1, dilation=1, ceil_mode=False)\n",
       "  (layer1): Sequential(\n",
       "    (0): Bottleneck(\n",
       "      (conv1): Conv2d(64, 64, kernel_size=(1, 1), stride=(1, 1), bias=False)\n",
       "      (bn1): BatchNorm2d(64, eps=1e-05, momentum=0.1, affine=True, track_running_stats=True)\n",
       "      (act1): ReLU(inplace=True)\n",
       "      (conv2): Conv2d(64, 64, kernel_size=(3, 3), stride=(1, 1), padding=(1, 1), bias=False)\n",
       "      (bn2): BatchNorm2d(64, eps=1e-05, momentum=0.1, affine=True, track_running_stats=True)\n",
       "      (drop_block): Identity()\n",
       "      (act2): ReLU(inplace=True)\n",
       "      (aa): Identity()\n",
       "      (conv3): Conv2d(64, 256, kernel_size=(1, 1), stride=(1, 1), bias=False)\n",
       "      (bn3): BatchNorm2d(256, eps=1e-05, momentum=0.1, affine=True, track_running_stats=True)\n",
       "      (act3): ReLU(inplace=True)\n",
       "      (downsample): Sequential(\n",
       "        (0): Conv2d(64, 256, kernel_size=(1, 1), stride=(1, 1), bias=False)\n",
       "        (1): BatchNorm2d(256, eps=1e-05, momentum=0.1, affine=True, track_running_stats=True)\n",
       "      )\n",
       "    )\n",
       "    (1): Bottleneck(\n",
       "      (conv1): Conv2d(256, 64, kernel_size=(1, 1), stride=(1, 1), bias=False)\n",
       "      (bn1): BatchNorm2d(64, eps=1e-05, momentum=0.1, affine=True, track_running_stats=True)\n",
       "      (act1): ReLU(inplace=True)\n",
       "      (conv2): Conv2d(64, 64, kernel_size=(3, 3), stride=(1, 1), padding=(1, 1), bias=False)\n",
       "      (bn2): BatchNorm2d(64, eps=1e-05, momentum=0.1, affine=True, track_running_stats=True)\n",
       "      (drop_block): Identity()\n",
       "      (act2): ReLU(inplace=True)\n",
       "      (aa): Identity()\n",
       "      (conv3): Conv2d(64, 256, kernel_size=(1, 1), stride=(1, 1), bias=False)\n",
       "      (bn3): BatchNorm2d(256, eps=1e-05, momentum=0.1, affine=True, track_running_stats=True)\n",
       "      (act3): ReLU(inplace=True)\n",
       "    )\n",
       "    (2): Bottleneck(\n",
       "      (conv1): Conv2d(256, 64, kernel_size=(1, 1), stride=(1, 1), bias=False)\n",
       "      (bn1): BatchNorm2d(64, eps=1e-05, momentum=0.1, affine=True, track_running_stats=True)\n",
       "      (act1): ReLU(inplace=True)\n",
       "      (conv2): Conv2d(64, 64, kernel_size=(3, 3), stride=(1, 1), padding=(1, 1), bias=False)\n",
       "      (bn2): BatchNorm2d(64, eps=1e-05, momentum=0.1, affine=True, track_running_stats=True)\n",
       "      (drop_block): Identity()\n",
       "      (act2): ReLU(inplace=True)\n",
       "      (aa): Identity()\n",
       "      (conv3): Conv2d(64, 256, kernel_size=(1, 1), stride=(1, 1), bias=False)\n",
       "      (bn3): BatchNorm2d(256, eps=1e-05, momentum=0.1, affine=True, track_running_stats=True)\n",
       "      (act3): ReLU(inplace=True)\n",
       "    )\n",
       "  )\n",
       "  (layer2): Sequential(\n",
       "    (0): Bottleneck(\n",
       "      (conv1): Conv2d(256, 128, kernel_size=(1, 1), stride=(1, 1), bias=False)\n",
       "      (bn1): BatchNorm2d(128, eps=1e-05, momentum=0.1, affine=True, track_running_stats=True)\n",
       "      (act1): ReLU(inplace=True)\n",
       "      (conv2): Conv2d(128, 128, kernel_size=(3, 3), stride=(2, 2), padding=(1, 1), bias=False)\n",
       "      (bn2): BatchNorm2d(128, eps=1e-05, momentum=0.1, affine=True, track_running_stats=True)\n",
       "      (drop_block): Identity()\n",
       "      (act2): ReLU(inplace=True)\n",
       "      (aa): Identity()\n",
       "      (conv3): Conv2d(128, 512, kernel_size=(1, 1), stride=(1, 1), bias=False)\n",
       "      (bn3): BatchNorm2d(512, eps=1e-05, momentum=0.1, affine=True, track_running_stats=True)\n",
       "      (act3): ReLU(inplace=True)\n",
       "      (downsample): Sequential(\n",
       "        (0): Conv2d(256, 512, kernel_size=(1, 1), stride=(2, 2), bias=False)\n",
       "        (1): BatchNorm2d(512, eps=1e-05, momentum=0.1, affine=True, track_running_stats=True)\n",
       "      )\n",
       "    )\n",
       "    (1): Bottleneck(\n",
       "      (conv1): Conv2d(512, 128, kernel_size=(1, 1), stride=(1, 1), bias=False)\n",
       "      (bn1): BatchNorm2d(128, eps=1e-05, momentum=0.1, affine=True, track_running_stats=True)\n",
       "      (act1): ReLU(inplace=True)\n",
       "      (conv2): Conv2d(128, 128, kernel_size=(3, 3), stride=(1, 1), padding=(1, 1), bias=False)\n",
       "      (bn2): BatchNorm2d(128, eps=1e-05, momentum=0.1, affine=True, track_running_stats=True)\n",
       "      (drop_block): Identity()\n",
       "      (act2): ReLU(inplace=True)\n",
       "      (aa): Identity()\n",
       "      (conv3): Conv2d(128, 512, kernel_size=(1, 1), stride=(1, 1), bias=False)\n",
       "      (bn3): BatchNorm2d(512, eps=1e-05, momentum=0.1, affine=True, track_running_stats=True)\n",
       "      (act3): ReLU(inplace=True)\n",
       "    )\n",
       "    (2): Bottleneck(\n",
       "      (conv1): Conv2d(512, 128, kernel_size=(1, 1), stride=(1, 1), bias=False)\n",
       "      (bn1): BatchNorm2d(128, eps=1e-05, momentum=0.1, affine=True, track_running_stats=True)\n",
       "      (act1): ReLU(inplace=True)\n",
       "      (conv2): Conv2d(128, 128, kernel_size=(3, 3), stride=(1, 1), padding=(1, 1), bias=False)\n",
       "      (bn2): BatchNorm2d(128, eps=1e-05, momentum=0.1, affine=True, track_running_stats=True)\n",
       "      (drop_block): Identity()\n",
       "      (act2): ReLU(inplace=True)\n",
       "      (aa): Identity()\n",
       "      (conv3): Conv2d(128, 512, kernel_size=(1, 1), stride=(1, 1), bias=False)\n",
       "      (bn3): BatchNorm2d(512, eps=1e-05, momentum=0.1, affine=True, track_running_stats=True)\n",
       "      (act3): ReLU(inplace=True)\n",
       "    )\n",
       "    (3): Bottleneck(\n",
       "      (conv1): Conv2d(512, 128, kernel_size=(1, 1), stride=(1, 1), bias=False)\n",
       "      (bn1): BatchNorm2d(128, eps=1e-05, momentum=0.1, affine=True, track_running_stats=True)\n",
       "      (act1): ReLU(inplace=True)\n",
       "      (conv2): Conv2d(128, 128, kernel_size=(3, 3), stride=(1, 1), padding=(1, 1), bias=False)\n",
       "      (bn2): BatchNorm2d(128, eps=1e-05, momentum=0.1, affine=True, track_running_stats=True)\n",
       "      (drop_block): Identity()\n",
       "      (act2): ReLU(inplace=True)\n",
       "      (aa): Identity()\n",
       "      (conv3): Conv2d(128, 512, kernel_size=(1, 1), stride=(1, 1), bias=False)\n",
       "      (bn3): BatchNorm2d(512, eps=1e-05, momentum=0.1, affine=True, track_running_stats=True)\n",
       "      (act3): ReLU(inplace=True)\n",
       "    )\n",
       "  )\n",
       "  (layer3): Sequential(\n",
       "    (0): Bottleneck(\n",
       "      (conv1): Conv2d(512, 256, kernel_size=(1, 1), stride=(1, 1), bias=False)\n",
       "      (bn1): BatchNorm2d(256, eps=1e-05, momentum=0.1, affine=True, track_running_stats=True)\n",
       "      (act1): ReLU(inplace=True)\n",
       "      (conv2): Conv2d(256, 256, kernel_size=(3, 3), stride=(2, 2), padding=(1, 1), bias=False)\n",
       "      (bn2): BatchNorm2d(256, eps=1e-05, momentum=0.1, affine=True, track_running_stats=True)\n",
       "      (drop_block): Identity()\n",
       "      (act2): ReLU(inplace=True)\n",
       "      (aa): Identity()\n",
       "      (conv3): Conv2d(256, 1024, kernel_size=(1, 1), stride=(1, 1), bias=False)\n",
       "      (bn3): BatchNorm2d(1024, eps=1e-05, momentum=0.1, affine=True, track_running_stats=True)\n",
       "      (act3): ReLU(inplace=True)\n",
       "      (downsample): Sequential(\n",
       "        (0): Conv2d(512, 1024, kernel_size=(1, 1), stride=(2, 2), bias=False)\n",
       "        (1): BatchNorm2d(1024, eps=1e-05, momentum=0.1, affine=True, track_running_stats=True)\n",
       "      )\n",
       "    )\n",
       "    (1): Bottleneck(\n",
       "      (conv1): Conv2d(1024, 256, kernel_size=(1, 1), stride=(1, 1), bias=False)\n",
       "      (bn1): BatchNorm2d(256, eps=1e-05, momentum=0.1, affine=True, track_running_stats=True)\n",
       "      (act1): ReLU(inplace=True)\n",
       "      (conv2): Conv2d(256, 256, kernel_size=(3, 3), stride=(1, 1), padding=(1, 1), bias=False)\n",
       "      (bn2): BatchNorm2d(256, eps=1e-05, momentum=0.1, affine=True, track_running_stats=True)\n",
       "      (drop_block): Identity()\n",
       "      (act2): ReLU(inplace=True)\n",
       "      (aa): Identity()\n",
       "      (conv3): Conv2d(256, 1024, kernel_size=(1, 1), stride=(1, 1), bias=False)\n",
       "      (bn3): BatchNorm2d(1024, eps=1e-05, momentum=0.1, affine=True, track_running_stats=True)\n",
       "      (act3): ReLU(inplace=True)\n",
       "    )\n",
       "    (2): Bottleneck(\n",
       "      (conv1): Conv2d(1024, 256, kernel_size=(1, 1), stride=(1, 1), bias=False)\n",
       "      (bn1): BatchNorm2d(256, eps=1e-05, momentum=0.1, affine=True, track_running_stats=True)\n",
       "      (act1): ReLU(inplace=True)\n",
       "      (conv2): Conv2d(256, 256, kernel_size=(3, 3), stride=(1, 1), padding=(1, 1), bias=False)\n",
       "      (bn2): BatchNorm2d(256, eps=1e-05, momentum=0.1, affine=True, track_running_stats=True)\n",
       "      (drop_block): Identity()\n",
       "      (act2): ReLU(inplace=True)\n",
       "      (aa): Identity()\n",
       "      (conv3): Conv2d(256, 1024, kernel_size=(1, 1), stride=(1, 1), bias=False)\n",
       "      (bn3): BatchNorm2d(1024, eps=1e-05, momentum=0.1, affine=True, track_running_stats=True)\n",
       "      (act3): ReLU(inplace=True)\n",
       "    )\n",
       "    (3): Bottleneck(\n",
       "      (conv1): Conv2d(1024, 256, kernel_size=(1, 1), stride=(1, 1), bias=False)\n",
       "      (bn1): BatchNorm2d(256, eps=1e-05, momentum=0.1, affine=True, track_running_stats=True)\n",
       "      (act1): ReLU(inplace=True)\n",
       "      (conv2): Conv2d(256, 256, kernel_size=(3, 3), stride=(1, 1), padding=(1, 1), bias=False)\n",
       "      (bn2): BatchNorm2d(256, eps=1e-05, momentum=0.1, affine=True, track_running_stats=True)\n",
       "      (drop_block): Identity()\n",
       "      (act2): ReLU(inplace=True)\n",
       "      (aa): Identity()\n",
       "      (conv3): Conv2d(256, 1024, kernel_size=(1, 1), stride=(1, 1), bias=False)\n",
       "      (bn3): BatchNorm2d(1024, eps=1e-05, momentum=0.1, affine=True, track_running_stats=True)\n",
       "      (act3): ReLU(inplace=True)\n",
       "    )\n",
       "    (4): Bottleneck(\n",
       "      (conv1): Conv2d(1024, 256, kernel_size=(1, 1), stride=(1, 1), bias=False)\n",
       "      (bn1): BatchNorm2d(256, eps=1e-05, momentum=0.1, affine=True, track_running_stats=True)\n",
       "      (act1): ReLU(inplace=True)\n",
       "      (conv2): Conv2d(256, 256, kernel_size=(3, 3), stride=(1, 1), padding=(1, 1), bias=False)\n",
       "      (bn2): BatchNorm2d(256, eps=1e-05, momentum=0.1, affine=True, track_running_stats=True)\n",
       "      (drop_block): Identity()\n",
       "      (act2): ReLU(inplace=True)\n",
       "      (aa): Identity()\n",
       "      (conv3): Conv2d(256, 1024, kernel_size=(1, 1), stride=(1, 1), bias=False)\n",
       "      (bn3): BatchNorm2d(1024, eps=1e-05, momentum=0.1, affine=True, track_running_stats=True)\n",
       "      (act3): ReLU(inplace=True)\n",
       "    )\n",
       "    (5): Bottleneck(\n",
       "      (conv1): Conv2d(1024, 256, kernel_size=(1, 1), stride=(1, 1), bias=False)\n",
       "      (bn1): BatchNorm2d(256, eps=1e-05, momentum=0.1, affine=True, track_running_stats=True)\n",
       "      (act1): ReLU(inplace=True)\n",
       "      (conv2): Conv2d(256, 256, kernel_size=(3, 3), stride=(1, 1), padding=(1, 1), bias=False)\n",
       "      (bn2): BatchNorm2d(256, eps=1e-05, momentum=0.1, affine=True, track_running_stats=True)\n",
       "      (drop_block): Identity()\n",
       "      (act2): ReLU(inplace=True)\n",
       "      (aa): Identity()\n",
       "      (conv3): Conv2d(256, 1024, kernel_size=(1, 1), stride=(1, 1), bias=False)\n",
       "      (bn3): BatchNorm2d(1024, eps=1e-05, momentum=0.1, affine=True, track_running_stats=True)\n",
       "      (act3): ReLU(inplace=True)\n",
       "    )\n",
       "  )\n",
       "  (layer4): Sequential(\n",
       "    (0): Bottleneck(\n",
       "      (conv1): Conv2d(1024, 512, kernel_size=(1, 1), stride=(1, 1), bias=False)\n",
       "      (bn1): BatchNorm2d(512, eps=1e-05, momentum=0.1, affine=True, track_running_stats=True)\n",
       "      (act1): ReLU(inplace=True)\n",
       "      (conv2): Conv2d(512, 512, kernel_size=(3, 3), stride=(2, 2), padding=(1, 1), bias=False)\n",
       "      (bn2): BatchNorm2d(512, eps=1e-05, momentum=0.1, affine=True, track_running_stats=True)\n",
       "      (drop_block): Identity()\n",
       "      (act2): ReLU(inplace=True)\n",
       "      (aa): Identity()\n",
       "      (conv3): Conv2d(512, 2048, kernel_size=(1, 1), stride=(1, 1), bias=False)\n",
       "      (bn3): BatchNorm2d(2048, eps=1e-05, momentum=0.1, affine=True, track_running_stats=True)\n",
       "      (act3): ReLU(inplace=True)\n",
       "      (downsample): Sequential(\n",
       "        (0): Conv2d(1024, 2048, kernel_size=(1, 1), stride=(2, 2), bias=False)\n",
       "        (1): BatchNorm2d(2048, eps=1e-05, momentum=0.1, affine=True, track_running_stats=True)\n",
       "      )\n",
       "    )\n",
       "    (1): Bottleneck(\n",
       "      (conv1): Conv2d(2048, 512, kernel_size=(1, 1), stride=(1, 1), bias=False)\n",
       "      (bn1): BatchNorm2d(512, eps=1e-05, momentum=0.1, affine=True, track_running_stats=True)\n",
       "      (act1): ReLU(inplace=True)\n",
       "      (conv2): Conv2d(512, 512, kernel_size=(3, 3), stride=(1, 1), padding=(1, 1), bias=False)\n",
       "      (bn2): BatchNorm2d(512, eps=1e-05, momentum=0.1, affine=True, track_running_stats=True)\n",
       "      (drop_block): Identity()\n",
       "      (act2): ReLU(inplace=True)\n",
       "      (aa): Identity()\n",
       "      (conv3): Conv2d(512, 2048, kernel_size=(1, 1), stride=(1, 1), bias=False)\n",
       "      (bn3): BatchNorm2d(2048, eps=1e-05, momentum=0.1, affine=True, track_running_stats=True)\n",
       "      (act3): ReLU(inplace=True)\n",
       "    )\n",
       "    (2): Bottleneck(\n",
       "      (conv1): Conv2d(2048, 512, kernel_size=(1, 1), stride=(1, 1), bias=False)\n",
       "      (bn1): BatchNorm2d(512, eps=1e-05, momentum=0.1, affine=True, track_running_stats=True)\n",
       "      (act1): ReLU(inplace=True)\n",
       "      (conv2): Conv2d(512, 512, kernel_size=(3, 3), stride=(1, 1), padding=(1, 1), bias=False)\n",
       "      (bn2): BatchNorm2d(512, eps=1e-05, momentum=0.1, affine=True, track_running_stats=True)\n",
       "      (drop_block): Identity()\n",
       "      (act2): ReLU(inplace=True)\n",
       "      (aa): Identity()\n",
       "      (conv3): Conv2d(512, 2048, kernel_size=(1, 1), stride=(1, 1), bias=False)\n",
       "      (bn3): BatchNorm2d(2048, eps=1e-05, momentum=0.1, affine=True, track_running_stats=True)\n",
       "      (act3): ReLU(inplace=True)\n",
       "    )\n",
       "  )\n",
       "  (global_pool): SelectAdaptivePool2d (pool_type=avg, flatten=Flatten(start_dim=1, end_dim=-1))\n",
       "  (fc): Linear(in_features=2048, out_features=1000, bias=True)\n",
       ")"
      ]
     },
     "execution_count": 60,
     "metadata": {},
     "output_type": "execute_result"
    }
   ],
   "source": [
    "model1 = timm.create_model('resnet18', pretrained=True)\n",
    "model2 = timm.create_model('resnet50', pretrained=True)\n",
    "model1, model2 = model1.to(device), model2.to(device)\n",
    "\n",
    "model1.eval()\n",
    "model2.eval()"
   ]
  },
  {
   "cell_type": "code",
   "execution_count": 61,
   "id": "58285ec9",
   "metadata": {},
   "outputs": [
    {
     "name": "stdout",
     "output_type": "stream",
     "text": [
      "tensor(0.6793)\n"
     ]
    }
   ],
   "source": [
    "similarity = Loss_DC()\n",
    "\n",
    "sim = 0\n",
    "\n",
    "with torch.no_grad():\n",
    "    for batch_idx, (inputs, targets) in enumerate(trainloader):\n",
    "        inputs, targets = inputs.to(device), targets.to(device)\n",
    "\n",
    "        features1 = model1.forward_features(inputs)\n",
    "        features2 = model2.forward_features(inputs)\n",
    "\n",
    "        features1 = features1.view([features1.shape[0], -1])\n",
    "        features2 = features2.view([features2.shape[0], -1])\n",
    "        \n",
    "        sim += similarity(features1, features2).detach()\n",
    "\n",
    "print(sim/len(trainloader))"
   ]
  },
  {
   "cell_type": "markdown",
   "id": "9352e2ca",
   "metadata": {},
   "source": [
    "## A simple example for partial distance correlation"
   ]
  },
  {
   "cell_type": "code",
   "execution_count": 62,
   "id": "59b89b89",
   "metadata": {},
   "outputs": [
    {
     "name": "stderr",
     "output_type": "stream",
     "text": [
      "Some weights of the model checkpoint at bert-base-uncased were not used when initializing BertModel: ['cls.predictions.decoder.weight', 'cls.predictions.transform.dense.weight', 'cls.seq_relationship.bias', 'cls.seq_relationship.weight', 'cls.predictions.bias', 'cls.predictions.transform.LayerNorm.bias', 'cls.predictions.transform.dense.bias', 'cls.predictions.transform.LayerNorm.weight']\n",
      "- This IS expected if you are initializing BertModel from the checkpoint of a model trained on another task or with another architecture (e.g. initializing a BertForSequenceClassification model from a BertForPreTraining model).\n",
      "- This IS NOT expected if you are initializing BertModel from the checkpoint of a model that you expect to be exactly identical (initializing a BertForSequenceClassification model from a BertForSequenceClassification model).\n"
     ]
    },
    {
     "name": "stdout",
     "output_type": "stream",
     "text": [
      "tensor([[-0.7786, -0.1859,  0.5463,  ...,  0.4157, -0.5557,  0.7506],\n",
      "        [-0.7872, -0.1686,  0.2455,  ...,  0.2083, -0.5253,  0.8364],\n",
      "        [-0.8581, -0.2902,  0.3572,  ...,  0.2868, -0.6016,  0.8708],\n",
      "        ...,\n",
      "        [-0.8625, -0.3620, -0.0616,  ...,  0.2378, -0.6112,  0.8878],\n",
      "        [-0.7298, -0.1935,  0.5247,  ...,  0.4959, -0.5106,  0.7271],\n",
      "        [-0.8218, -0.1641,  0.2925,  ...,  0.3272, -0.5407,  0.8550]],\n",
      "       grad_fn=<CatBackward0>)\n"
     ]
    }
   ],
   "source": [
    "from transformers import BertTokenizer, BertModel\n",
    "\n",
    "tokenizer = BertTokenizer.from_pretrained('bert-base-uncased')\n",
    "embed_model = BertModel.from_pretrained(\"bert-base-uncased\")\n",
    "embed_model.eval()\n",
    "\n",
    "class_embedding = []\n",
    "for cifar_class in classes:\n",
    "    encoded_input = tokenizer(cifar_class.lower(), return_tensors='pt')\n",
    "    output = embed_model(**encoded_input)\n",
    "    class_embedding.append(output[1])\n",
    "class_embedding = torch.cat(class_embedding).to(device)\n",
    "print(class_embedding)"
   ]
  },
  {
   "cell_type": "markdown",
   "id": "19eae044",
   "metadata": {},
   "source": [
    "## Definition of the Partial Distance Correlation"
   ]
  },
  {
   "cell_type": "code",
   "execution_count": 63,
   "id": "471d94fb",
   "metadata": {},
   "outputs": [],
   "source": [
    "def P_Distance_Matrix(latent):\n",
    "    n = latent.shape[0]\n",
    "    matrix_a = torch.sqrt(torch.sum(torch.square(latent.unsqueeze(0) - latent.unsqueeze(1)), dim = -1)  + 1e-18)\n",
    "    matrix_A = matrix_a - torch.sum(matrix_a, dim = 0, keepdims= True)/(n-2) - torch.sum(matrix_a, dim = 1, keepdims= True)/(n-2) \\\n",
    "                + torch.sum(matrix_a)/((n-1)*(n-2))\n",
    "\n",
    "    diag_A = torch.diag(torch.diag(matrix_A) ) \n",
    "    matrix_A = matrix_A - diag_A\n",
    "    return matrix_A\n",
    "\n",
    "\n",
    "def bracket_op(matrix_A, matrix_B):\n",
    "    n = matrix_A.shape[0]\n",
    "    return torch.sum(matrix_A * matrix_B)/(n*(n-3))\n",
    "\n",
    "\n",
    "def P_removal(matrix_A, matrix_C):\n",
    "    result = matrix_A - bracket_op(matrix_A, matrix_C) / bracket_op(matrix_C, matrix_C) * matrix_C\n",
    "    return result\n",
    "\n",
    "def Correlation(matrix_A, matrix_B):\n",
    "    Gamma_XY = bracket_op(matrix_A, matrix_B)\n",
    "    Gamma_XX = bracket_op(matrix_A, matrix_A)\n",
    "    Gamma_YY = bracket_op(matrix_B, matrix_B)\n",
    "\n",
    "    correlation_r = Gamma_XY/torch.sqrt(Gamma_XX * Gamma_YY + 1e-18)\n",
    "\n",
    "    return correlation_r\n",
    "\n",
    "\n",
    "def P_DC(latent_A, latent_B, ground_truth):\n",
    "    matrix_A = P_Distance_Matrix(latent_A)\n",
    "    matrix_B = P_Distance_Matrix(latent_B)\n",
    "    matrix_GT = P_Distance_Matrix(ground_truth)\n",
    "\n",
    "    matrix_A_B = P_removal(matrix_A, matrix_B)\n",
    "\n",
    "    cr = Correlation(matrix_A_B, matrix_GT)\n",
    "\n",
    "    return cr\n",
    "\n",
    "\n",
    "def New_DC(latent_A, ground_truth):\n",
    "    matrix_A = P_Distance_Matrix(latent_A)\n",
    "    matrix_GT = P_Distance_Matrix(ground_truth)\n",
    "    cr = Correlation(matrix_A, matrix_GT)\n",
    "\n",
    "    return cr"
   ]
  },
  {
   "cell_type": "markdown",
   "id": "d0f4b8be",
   "metadata": {},
   "source": [
    "We will remove model 2 from model 1 and measure the information remaining"
   ]
  },
  {
   "cell_type": "code",
   "execution_count": 64,
   "id": "900b28b7",
   "metadata": {},
   "outputs": [
    {
     "name": "stdout",
     "output_type": "stream",
     "text": [
      "tensor(0.1122)\n"
     ]
    }
   ],
   "source": [
    "total_pdc = 0\n",
    "with torch.no_grad():\n",
    "    for batch_idx, (inputs, targets) in enumerate(trainloader):\n",
    "        inputs, targets = inputs.to(device), targets.to(device)\n",
    "\n",
    "        features1 = model1.forward_features(inputs)\n",
    "        features2 = model2.forward_features(inputs)\n",
    "\n",
    "        features1 = features1.view([features1.shape[0], -1])\n",
    "        features2 = features2.view([features2.shape[0], -1])\n",
    "\n",
    "        ground_truth = class_embedding[targets]\n",
    "        \n",
    "        pdcor = P_DC(features1, features2, ground_truth)\n",
    "        \n",
    "        total_pdc += pdcor.detach()\n",
    "\n",
    "print(total_pdc/len(trainloader))"
   ]
  }
 ],
 "metadata": {
  "kernelspec": {
   "display_name": "Python 3 (ipykernel)",
   "language": "python",
   "name": "python3"
  },
  "language_info": {
   "codemirror_mode": {
    "name": "ipython",
    "version": 3
   },
   "file_extension": ".py",
   "mimetype": "text/x-python",
   "name": "python",
   "nbconvert_exporter": "python",
   "pygments_lexer": "ipython3",
   "version": "3.9.7"
  }
 },
 "nbformat": 4,
 "nbformat_minor": 5
}
